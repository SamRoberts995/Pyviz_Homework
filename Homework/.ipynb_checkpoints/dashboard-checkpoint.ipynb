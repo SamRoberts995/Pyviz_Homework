{
 "cells": [
  {
   "cell_type": "markdown",
   "metadata": {},
   "source": [
    "# Toronto Dwellings Analysis Dashboard\n",
    "\n",
    "In this notebook, you will compile the visualizations from the previous analysis into functions to create a Panel dashboard."
   ]
  },
  {
   "cell_type": "code",
   "execution_count": 170,
   "metadata": {},
   "outputs": [],
   "source": [
    "# imports\n",
    "import panel as pn\n",
    "pn.extension('plotly')\n",
    "import plotly.express as px\n",
    "import pandas as pd\n",
    "import hvplot.pandas\n",
    "import matplotlib.pyplot as plt\n",
    "import os\n",
    "from pathlib import Path\n",
    "from dotenv import load_dotenv"
   ]
  },
  {
   "cell_type": "code",
   "execution_count": 171,
   "metadata": {},
   "outputs": [],
   "source": [
    "# Initialize the Panel Extensions (for Plotly)\n",
    "import panel as pn\n",
    "pn.extension(\"plotly\")"
   ]
  },
  {
   "cell_type": "code",
   "execution_count": 172,
   "metadata": {},
   "outputs": [],
   "source": [
    "# Read the Mapbox API key\n",
    "load_dotenv()\n",
    "map_box_api = os.getenv(\"mapbox\")\n",
    "px.set_mapbox_access_token(map_box_api)"
   ]
  },
  {
   "cell_type": "markdown",
   "metadata": {},
   "source": [
    "# Import Data"
   ]
  },
  {
   "cell_type": "code",
   "execution_count": 173,
   "metadata": {},
   "outputs": [],
   "source": [
    "# Import the CSVs to Pandas DataFrames\n",
    "file_path = Path(\"Data/toronto_neighbourhoods_census_data.csv\")\n",
    "to_data = pd.read_csv(file_path, index_col=\"year\")\n",
    "\n",
    "file_path = Path(\"Data/toronto_neighbourhoods_coordinates.csv\")\n",
    "df_neighbourhood_locations = pd.read_csv(file_path)"
   ]
  },
  {
   "cell_type": "markdown",
   "metadata": {},
   "source": [
    "- - -"
   ]
  },
  {
   "cell_type": "markdown",
   "metadata": {},
   "source": [
    "## Panel Visualizations\n",
    "\n",
    "In this section, you will copy the code for each plot type from your analysis notebook and place it into separate functions that Panel can use to create panes for the dashboard. \n",
    "\n",
    "These functions will convert the plot object to a Panel pane.\n",
    "\n",
    "Be sure to include any DataFrame transformation/manipulation code required along with the plotting code.\n",
    "\n",
    "Return a Panel pane object from each function that can be used to build the dashboard.\n",
    "\n",
    "Note: Remove any `.show()` lines from the code. We want to return the plots instead of showing them. The Panel dashboard will then display the plots."
   ]
  },
  {
   "cell_type": "markdown",
   "metadata": {},
   "source": [
    "### Global available data"
   ]
  },
  {
   "cell_type": "code",
   "execution_count": 174,
   "metadata": {},
   "outputs": [],
   "source": [
    "# Getting the data from the top 10 expensive neighbourhoods\n",
    "mean_values = to_data.groupby(\"neighbourhood\").mean().reset_index()\n",
    "mean_values = mean_values.rename(columns={\"neighbourhood\": \"neighbourhood_1\"})\n",
    "new_df = pd.concat([df_neighbourhood_locations, mean_values], axis=\"columns\",  join=\"inner\")\n",
    "new_df = new_df.drop(columns=['neighbourhood_1'])\n",
    "new_df\n",
    "\n",
    "to_data_mean_by_year = to_data.groupby(by=[\"year\"]).mean()\n",
    "dwelling_list = to_data.groupby(['year', 'neighbourhood']).sum().reset_index()\n",
    "# Calculate the mean number of dwelling types units per year\n",
    "avg_house_value_by_neighbourhood = to_data.groupby(['year', 'neighbourhood']).mean()['average_house_value'].reset_index()\n",
    "\n",
    "#avg_house_value_by_neighbourhood\n",
    "\n",
    "# Calculate the average monthly shelter costs for owned and rented dwellings\n",
    "shelter_costs_df = to_data.groupby('year').mean()[['shelter_costs_owned', 'shelter_costs_rented']].reset_index()\n",
    "# shelter_costs_df\n",
    "\n"
   ]
  },
  {
   "cell_type": "markdown",
   "metadata": {},
   "source": [
    "### Panel Visualization Functions"
   ]
  },
  {
   "cell_type": "code",
   "execution_count": 175,
   "metadata": {},
   "outputs": [],
   "source": [
    "# Define Panel visualization functions\n",
    "def neighbourhood_map():\n",
    "    file_path = Path(\"Data/toronto_neighbourhoods_coordinates.csv\")\n",
    "    df_neighbourhood_locations = pd.read_csv(file_path)\n",
    "    df_neighbourhood_locations = df_neighbourhood_locations.set_index('neighbourhood')\n",
    "    avg_neighourhood_values = to_data.groupby('neighbourhood').mean()\n",
    "    avg_neighourhood_values.head()\n",
    "    neighbourhood_locations = pd.concat([df_neighbourhood_locations, avg_neighourhood_values], axis = 1, join = 'inner').reset_index()\n",
    "    \n",
    "    map_plot = px.scatter_mapbox(\n",
    "    new_df,\n",
    "    size=\"average_house_value\",\n",
    "    lat=\"lat\",\n",
    "    lon=\"lon\",\n",
    "    color='average_house_value',\n",
    "    hover_name=\"neighbourhood\",\n",
    "    hover_data=['shelter_costs_owned', 'shelter_costs_rented', 'single_detached_house', 'apartment_five_storeys_plus', 'movable_dwelling', 'semi_detached_house', 'row_house', 'duplex', 'apartment_five_storeys_less', 'other_house'],\n",
    "    zoom=10)\n",
    "    \n",
    "    return map_plot\n",
    "  \n",
    "    \n",
    "def create_bar_chart(data, title, xlabel, ylabel, color):\n",
    "    return data.hvplot(kind=\"bar\",title=title, xlabel=xlabel, ylabel=ylabel, color=color, rot=90)\n",
    "    \n",
    "\n",
    "def create_line_chart(data, title, xlabel, ylabel, color):\n",
    "    return data.hvplot(kind=\"line\",title=title, xlabel=xlabel, ylabel=ylabel, color=color, rot=90)\n",
    "\n",
    "def average_house_value():\n",
    "    transactionsavg_by_year = to_data.groupby('year').mean()[\"average_house_value\"]\n",
    "    transactionsavg_by_year\n",
    "    \n",
    "    average_house_plot = transactionsavg_by_year.hvplot.line(x = 'year', xlabel = 'Year', ylabel = 'Avg House Value', title = 'Average House Value in Toronto', yformatter = \"%.0f\")\n",
    "\n",
    "    return average_house_plot\n",
    "\n",
    "def average_value_by_neighbourhood():\n",
    "    avg_house_value_by_neighbourhood = to_data.groupby(['year', 'neighbourhood']).mean()['average_house_value'].reset_index()\n",
    "    neighourhood_avg_house = avg_house_value_by_neighbourhood.hvplot(x='year', y='average_house_value', groupby='neighbourhood', kind='line')\n",
    "    \n",
    "    return neighourhood_avg_house\n",
    "\n",
    "def number_dwelling_types():\n",
    "    dwelling_list = to_data.groupby(['year', 'neighbourhood']).sum().reset_index()\n",
    "    \n",
    "    dwelling_list_plot = dwelling_list.hvplot.bar(\n",
    "    x = 'year',\n",
    "    xlabel = 'Year',\n",
    "    ylabel = 'No. of Dwelling Types',\n",
    "    title = 'Average Number of Dwelling Types Per Neighbourhood', \n",
    "    rot = 90, \n",
    "    yformatter = \"%.0f\",\n",
    "    groupby = 'neighbourhood',\n",
    "    width = 1000,\n",
    "    height = 500\n",
    "    )\n",
    "    dwelling_list_plot\n",
    "\n",
    "def average_house_value_snapshot():\n",
    "    \"\"\"Average house value for all Toronto's neighbourhoods per year.\"\"\"\n",
    "    avg_house_value_by_neighbourhood = to_data.groupby(['year', 'neighbourhood']).mean()['average_house_value'].reset_index()\n",
    "    avg_house_plot = avg_house_value_by_neighbourhood.hvplot(x='year', y='average_house_value', groupby='neighbourhood', kind='line')\n",
    "\n",
    "    return avg_house_plot\n",
    "\n",
    "def top_most_expensive_neighbourhoods():\n",
    "    top_10[[\"neighbourhood\", \"average_house_value\"]].hvplot(\n",
    "        kind=\"bar\",\n",
    "        label=\"Top 10 Expensive Neighbourhoods in Toronto\",\n",
    "        xlabel=\"Neighbourhoods\",\n",
    "        ylabel=\"Avg. House Value\",\n",
    "        x=\"neighbourhood\",\n",
    "        rot=60,\n",
    "        height=500\n",
    "    )\n",
    "\n",
    "def sunburts_cost_analysis():\n",
    "    mean_values = to_data.groupby([\"year\", \"neighbourhood\"]).mean()\n",
    "    top_10 = mean_values.sort_values('average_house_value', ascending=False)\n",
    "    top_10 = top_10.reset_index()\n",
    "    \n",
    "    #Gather Data by Year:\n",
    "    combined_expensive_data = pd.concat((top_10[top_10[\"year\"] == 2001][:10],\n",
    "                                        top_10[top_10[\"year\"] == 2006][:10],\n",
    "                                        top_10[top_10[\"year\"] == 2011][:10],\n",
    "                                        top_10[top_10[\"year\"] == 2016][:10]), \n",
    "                                    axis='rows', join=\"inner\").reset_index()\n",
    "    \"\"\"Sunburst chart to conduct a costs analysis of most expensive neighbourhoods in Toronto per year.\"\"\"\n",
    "    fig = px.sunburst(\n",
    "    combined_expensive_data,\n",
    "    path=[\"year\",\"neighbourhood\"],\n",
    "    values=\"average_house_value\",\n",
    "    title=\"Cost Analysis of Most Expensive Neighbourhoods in Toronto per Year\", \n",
    "    color='shelter_costs_owned',\n",
    "    width=750, height=750\n",
    ")\n",
    "    return fig"
   ]
  },
  {
   "cell_type": "markdown",
   "metadata": {},
   "source": [
    "## Panel Dashboard\n",
    "\n",
    "In this section, you will combine all of the plots into a single dashboard view using Panel. Be creative with your dashboard design!"
   ]
  },
  {
   "cell_type": "code",
   "execution_count": 177,
   "metadata": {},
   "outputs": [
    {
     "ename": "AttributeError",
     "evalue": "module 'panel' has no attribute 'Columns'",
     "output_type": "error",
     "traceback": [
      "\u001b[1;31m---------------------------------------------------------------------------\u001b[0m",
      "\u001b[1;31mAttributeError\u001b[0m                            Traceback (most recent call last)",
      "\u001b[1;32m~\\AppData\\Local\\Temp/ipykernel_5612/2160451116.py\u001b[0m in \u001b[0;36m<module>\u001b[1;34m\u001b[0m\n\u001b[0;32m      1\u001b[0m \u001b[1;31m# Create a Title for the Dashboard\u001b[0m\u001b[1;33m\u001b[0m\u001b[1;33m\u001b[0m\u001b[1;33m\u001b[0m\u001b[0m\n\u001b[1;32m----> 2\u001b[1;33m maps = pn.Columns(\n\u001b[0m\u001b[0;32m      3\u001b[0m     \u001b[0mpn\u001b[0m\u001b[1;33m.\u001b[0m\u001b[0mpane\u001b[0m\u001b[1;33m.\u001b[0m\u001b[0mMarkdown\u001b[0m\u001b[1;33m(\u001b[0m\u001b[1;34m'##Map of Toronto'\u001b[0m\u001b[1;33m,\u001b[0m\u001b[0mstyle\u001b[0m\u001b[1;33m=\u001b[0m\u001b[1;33m{\u001b[0m\u001b[1;34m'color'\u001b[0m\u001b[1;33m:\u001b[0m\u001b[1;34m'white'\u001b[0m\u001b[1;33m,\u001b[0m \u001b[1;34m'font-family'\u001b[0m\u001b[1;33m:\u001b[0m \u001b[1;34m\"serif\"\u001b[0m\u001b[1;33m}\u001b[0m\u001b[1;33m)\u001b[0m\u001b[1;33m,\u001b[0m\u001b[1;33m\u001b[0m\u001b[1;33m\u001b[0m\u001b[0m\n\u001b[0;32m      4\u001b[0m     \u001b[0mneighbourhood_map\u001b[0m\u001b[1;33m(\u001b[0m\u001b[1;33m)\u001b[0m\u001b[1;33m\u001b[0m\u001b[1;33m\u001b[0m\u001b[0m\n\u001b[0;32m      5\u001b[0m ) \n",
      "\u001b[1;31mAttributeError\u001b[0m: module 'panel' has no attribute 'Columns'"
     ]
    }
   ],
   "source": [
    "# Create a Title for the Dashboard\n",
    "maps = pn.Columns(\n",
    "    pn.pane.Markdown('##Map of Toronto',style={'color':'white', 'font-family': \"serif\"}),\n",
    "    neighbourhood_map()\n",
    ") \n",
    "\n",
    "\n",
    "avg_value = pn.Column(\n",
    "    pn.pane.Markdown('##Average House Values in Toronto',style={'color':'white', 'font-family': \"serif\"}),\n",
    "    average_house_value(), \n",
    "    average_value_by_neighbourhood(), \n",
    "    average_house_value_snapshot())\n",
    "\n",
    "dts = pn.Column(\n",
    "    pn.pane.Markdown('##Dwelling Types in Toronto',style={'color':'white', 'font-family': \"serif\"}),\n",
    "    create_bar_chart(dwelling_list.loc[2001], \"Dwelling Types in Toronto in 2001\", \"2001\", \"Dwelling Type Units\", \"red\"),\n",
    "    create_bar_chart(dwelling_list.loc[2006], \"Dwelling Types in Toronto in 2006\", \"2006\", \"Dwelling Type Units\", \"blue\"),\n",
    "    create_bar_chart(dwelling_list.loc[2011], \"Dwelling Types in Toronto in 2011\", \"2011\", \"Dwelling Type Units\", \"orange\"),\n",
    "    create_bar_chart(dwelling_list.loc[2016], \"Dwelling Types in Toronto in 2016\", \"2016\", \"Dwelling Type Units\", \"magenta\"),\n",
    ")\n",
    "\n",
    "costs = pn.Column(\n",
    "    pn.pane.Markdown('##Neighbourhood Costs in Toronto',style={'color':'white', 'font-family': \"serif\"}),\n",
    "    #create_line_chart(),\n",
    "    top_most_expensive_neighbourhoods(),\n",
    "    sunburts_cost_analysis())\n",
    "\n",
    "dashboard = pn.Tabs(\n",
    "    (\"Data of Torontos Property Market\", maps),\n",
    "    (\"Average House Values in Toronto\", average_values),\n",
    "    (\"Dwelling Types Per Year\", dts),\n",
    "    ('Housing Costs', costs))"
   ]
  },
  {
   "cell_type": "code",
   "execution_count": 178,
   "metadata": {},
   "outputs": [
    {
     "data": {},
     "metadata": {},
     "output_type": "display_data"
    },
    {
     "data": {
      "application/vnd.holoviews_exec.v0+json": "",
      "text/html": [
       "<div id='27117'>\n",
       "\n",
       "\n",
       "\n",
       "\n",
       "\n",
       "  <div class=\"bk-root\" id=\"faf2b680-a6c1-4d30-b4e6-2e98bfe8d75c\" data-root-id=\"27117\"></div>\n",
       "</div>\n",
       "<script type=\"application/javascript\">(function(root) {\n",
       "  function embed_document(root) {\n",
       "    var docs_json = {\"9c1a64f7-4f5a-4cac-b439-a930de124e91\":{\"defs\":[{\"extends\":null,\"module\":null,\"name\":\"ReactiveHTML1\",\"overrides\":[],\"properties\":[]},{\"extends\":null,\"module\":null,\"name\":\"FlexBox1\",\"overrides\":[],\"properties\":[{\"default\":\"flex-start\",\"kind\":null,\"name\":\"align_content\"},{\"default\":\"flex-start\",\"kind\":null,\"name\":\"align_items\"},{\"default\":\"row\",\"kind\":null,\"name\":\"flex_direction\"},{\"default\":\"wrap\",\"kind\":null,\"name\":\"flex_wrap\"},{\"default\":\"flex-start\",\"kind\":null,\"name\":\"justify_content\"}]},{\"extends\":null,\"module\":null,\"name\":\"TemplateActions1\",\"overrides\":[],\"properties\":[{\"default\":0,\"kind\":null,\"name\":\"open_modal\"},{\"default\":0,\"kind\":null,\"name\":\"close_modal\"}]},{\"extends\":null,\"module\":null,\"name\":\"MaterialTemplateActions1\",\"overrides\":[],\"properties\":[{\"default\":0,\"kind\":null,\"name\":\"open_modal\"},{\"default\":0,\"kind\":null,\"name\":\"close_modal\"}]}],\"roots\":{\"references\":[{\"attributes\":{\"bottom\":{\"value\":0},\"fill_alpha\":{\"value\":1.0},\"fill_color\":{\"value\":\"magenta\"},\"hatch_alpha\":{\"value\":1.0},\"hatch_color\":{\"value\":\"magenta\"},\"hatch_scale\":{\"value\":12.0},\"hatch_weight\":{\"value\":1.0},\"line_alpha\":{\"value\":1.0},\"line_cap\":{\"value\":\"butt\"},\"line_color\":{\"value\":\"black\"},\"line_dash\":{\"value\":[]},\"line_dash_offset\":{\"value\":0},\"line_join\":{\"value\":\"bevel\"},\"line_width\":{\"value\":1},\"top\":{\"field\":\"A_2016\"},\"width\":{\"value\":0.8},\"x\":{\"field\":\"index\"}},\"id\":\"27159\",\"type\":\"VBar\"},{\"attributes\":{},\"id\":\"27173\",\"type\":\"UnionRenderers\"},{\"attributes\":{\"bottom_units\":\"screen\",\"coordinates\":null,\"fill_alpha\":0.5,\"fill_color\":\"lightgrey\",\"group\":null,\"left_units\":\"screen\",\"level\":\"overlay\",\"line_alpha\":1.0,\"line_color\":\"black\",\"line_dash\":[4,4],\"line_width\":2,\"right_units\":\"screen\",\"syncable\":false,\"top_units\":\"screen\"},\"id\":\"27143\",\"type\":\"BoxAnnotation\"},{\"attributes\":{\"axis_label\":\"2016\",\"coordinates\":null,\"formatter\":{\"id\":\"27161\"},\"group\":null,\"major_label_orientation\":1.5707963267948966,\"major_label_policy\":{\"id\":\"27162\"},\"ticker\":{\"id\":\"27132\"}},\"id\":\"27131\",\"type\":\"CategoricalAxis\"},{\"attributes\":{},\"id\":\"27138\",\"type\":\"SaveTool\"},{\"attributes\":{\"fill_alpha\":{\"value\":0.2},\"fill_color\":{\"value\":\"magenta\"},\"hatch_alpha\":{\"value\":0.2},\"hatch_color\":{\"value\":\"magenta\"},\"line_alpha\":{\"value\":0.2},\"top\":{\"field\":\"A_2016\"},\"width\":{\"value\":0.8},\"x\":{\"field\":\"index\"}},\"id\":\"27156\",\"type\":\"VBar\"},{\"attributes\":{},\"id\":\"27139\",\"type\":\"PanTool\"},{\"attributes\":{},\"id\":\"27142\",\"type\":\"ResetTool\"},{\"attributes\":{},\"id\":\"27152\",\"type\":\"Selection\"},{\"attributes\":{\"coordinates\":null,\"data_source\":{\"id\":\"27151\"},\"glyph\":{\"id\":\"27154\"},\"group\":null,\"hover_glyph\":null,\"muted_glyph\":{\"id\":\"27156\"},\"nonselection_glyph\":{\"id\":\"27155\"},\"selection_glyph\":{\"id\":\"27159\"},\"view\":{\"id\":\"27158\"}},\"id\":\"27157\",\"type\":\"GlyphRenderer\"},{\"attributes\":{},\"id\":\"27140\",\"type\":\"WheelZoomTool\"},{\"attributes\":{\"tools\":[{\"id\":\"27121\"},{\"id\":\"27138\"},{\"id\":\"27139\"},{\"id\":\"27140\"},{\"id\":\"27141\"},{\"id\":\"27142\"}]},\"id\":\"27144\",\"type\":\"Toolbar\"},{\"attributes\":{\"overlay\":{\"id\":\"27143\"}},\"id\":\"27141\",\"type\":\"BoxZoomTool\"},{\"attributes\":{\"axis\":{\"id\":\"27131\"},\"coordinates\":null,\"grid_line_color\":null,\"group\":null,\"ticker\":null},\"id\":\"27133\",\"type\":\"Grid\"},{\"attributes\":{\"data\":{\"A_2016\":{\"__ndarray__\":\"kiRJkiQZnkDbtm3btoarQG7btm3btuU/kiRJkiTJf0AAAAAAAHx7QEmSJEmSsHVA27Zt27Z6kkAlSZIkSVI0QKiDOqgIRCRB1EEd1EGFm0AlSZIkSaGTQA==\",\"dtype\":\"float64\",\"order\":\"little\",\"shape\":[11]},\"index\":[\"single_detached_house\",\"apartment_five_storeys_plus\",\"movable_dwelling\",\"semi_detached_house\",\"row_house\",\"duplex\",\"apartment_five_storeys_less\",\"other_house\",\"average_house_value\",\"shelter_costs_owned\",\"shelter_costs_rented\"]},\"selected\":{\"id\":\"27152\"},\"selection_policy\":{\"id\":\"27173\"}},\"id\":\"27151\",\"type\":\"ColumnDataSource\"},{\"attributes\":{},\"id\":\"27127\",\"type\":\"CategoricalScale\"},{\"attributes\":{\"below\":[{\"id\":\"27131\"}],\"center\":[{\"id\":\"27133\"},{\"id\":\"27137\"}],\"height\":300,\"left\":[{\"id\":\"27134\"}],\"margin\":[5,5,5,5],\"min_border_bottom\":10,\"min_border_left\":10,\"min_border_right\":10,\"min_border_top\":10,\"renderers\":[{\"id\":\"27157\"}],\"sizing_mode\":\"fixed\",\"title\":{\"id\":\"27123\"},\"toolbar\":{\"id\":\"27144\"},\"width\":700,\"x_range\":{\"id\":\"27119\"},\"x_scale\":{\"id\":\"27127\"},\"y_range\":{\"id\":\"27120\"},\"y_scale\":{\"id\":\"27129\"}},\"id\":\"27122\",\"subtype\":\"Figure\",\"type\":\"Plot\"},{\"attributes\":{\"coordinates\":null,\"group\":null,\"text\":\"Dwelling Types in Toronto in 2016\",\"text_color\":\"black\",\"text_font_size\":\"12pt\"},\"id\":\"27123\",\"type\":\"Title\"},{\"attributes\":{\"children\":[{\"id\":\"27118\"},{\"id\":\"27122\"},{\"id\":\"27186\"}],\"margin\":[0,0,0,0],\"name\":\"Row35002\",\"tags\":[\"embedded\"]},\"id\":\"27117\",\"type\":\"Row\"},{\"attributes\":{\"margin\":[5,5,5,5],\"name\":\"HSpacer35006\",\"sizing_mode\":\"stretch_width\"},\"id\":\"27118\",\"type\":\"Spacer\"},{\"attributes\":{\"fill_alpha\":{\"value\":0.1},\"fill_color\":{\"value\":\"magenta\"},\"hatch_alpha\":{\"value\":0.1},\"hatch_color\":{\"value\":\"magenta\"},\"line_alpha\":{\"value\":0.1},\"top\":{\"field\":\"A_2016\"},\"width\":{\"value\":0.8},\"x\":{\"field\":\"index\"}},\"id\":\"27155\",\"type\":\"VBar\"},{\"attributes\":{},\"id\":\"27162\",\"type\":\"AllLabels\"},{\"attributes\":{},\"id\":\"27129\",\"type\":\"LinearScale\"},{\"attributes\":{\"fill_color\":{\"value\":\"magenta\"},\"hatch_color\":{\"value\":\"magenta\"},\"top\":{\"field\":\"A_2016\"},\"width\":{\"value\":0.8},\"x\":{\"field\":\"index\"}},\"id\":\"27154\",\"type\":\"VBar\"},{\"attributes\":{\"factors\":[\"single_detached_house\",\"apartment_five_storeys_plus\",\"movable_dwelling\",\"semi_detached_house\",\"row_house\",\"duplex\",\"apartment_five_storeys_less\",\"other_house\",\"average_house_value\",\"shelter_costs_owned\",\"shelter_costs_rented\"],\"tags\":[[[\"index\",\"index\",null]]]},\"id\":\"27119\",\"type\":\"FactorRange\"},{\"attributes\":{},\"id\":\"27135\",\"type\":\"BasicTicker\"},{\"attributes\":{\"end\":730475.0935714286,\"reset_end\":730475.0935714286,\"reset_start\":0.0,\"tags\":[[[\"2016\",\"2016\",null]]]},\"id\":\"27120\",\"type\":\"Range1d\"},{\"attributes\":{},\"id\":\"27132\",\"type\":\"CategoricalTicker\"},{\"attributes\":{\"axis_label\":\"Dwelling Type Units\",\"coordinates\":null,\"formatter\":{\"id\":\"27164\"},\"group\":null,\"major_label_policy\":{\"id\":\"27165\"},\"ticker\":{\"id\":\"27135\"}},\"id\":\"27134\",\"type\":\"LinearAxis\"},{\"attributes\":{\"source\":{\"id\":\"27151\"}},\"id\":\"27158\",\"type\":\"CDSView\"},{\"attributes\":{\"axis\":{\"id\":\"27134\"},\"coordinates\":null,\"dimension\":1,\"grid_line_color\":null,\"group\":null,\"ticker\":null},\"id\":\"27137\",\"type\":\"Grid\"},{\"attributes\":{\"callback\":null,\"renderers\":[{\"id\":\"27157\"}],\"tags\":[\"hv_created\"],\"tooltips\":[[\"index\",\"@{index}\"],[\"2016\",\"@{A_2016}\"]]},\"id\":\"27121\",\"type\":\"HoverTool\"},{\"attributes\":{\"margin\":[5,5,5,5],\"name\":\"HSpacer35007\",\"sizing_mode\":\"stretch_width\"},\"id\":\"27186\",\"type\":\"Spacer\"},{\"attributes\":{},\"id\":\"27165\",\"type\":\"AllLabels\"},{\"attributes\":{},\"id\":\"27161\",\"type\":\"CategoricalTickFormatter\"},{\"attributes\":{},\"id\":\"27164\",\"type\":\"BasicTickFormatter\"}],\"root_ids\":[\"27117\"]},\"title\":\"Bokeh Application\",\"version\":\"2.4.1\"}};\n",
       "    var render_items = [{\"docid\":\"9c1a64f7-4f5a-4cac-b439-a930de124e91\",\"root_ids\":[\"27117\"],\"roots\":{\"27117\":\"faf2b680-a6c1-4d30-b4e6-2e98bfe8d75c\"}}];\n",
       "    root.Bokeh.embed.embed_items_notebook(docs_json, render_items);\n",
       "  }\n",
       "  if (root.Bokeh !== undefined && root.Bokeh.Panel !== undefined && ( root['Plotly'] !== undefined)) {\n",
       "    embed_document(root);\n",
       "  } else {\n",
       "    var attempts = 0;\n",
       "    var timer = setInterval(function(root) {\n",
       "      if (root.Bokeh !== undefined && root.Bokeh.Panel !== undefined && (root['Plotly'] !== undefined)) {\n",
       "        clearInterval(timer);\n",
       "        embed_document(root);\n",
       "      } else if (document.readyState == \"complete\") {\n",
       "        attempts++;\n",
       "        if (attempts > 200) {\n",
       "          clearInterval(timer);\n",
       "          console.log(\"Bokeh: ERROR: Unable to run BokehJS code because BokehJS library is missing\");\n",
       "        }\n",
       "      }\n",
       "    }, 25, root)\n",
       "  }\n",
       "})(window);</script>"
      ],
      "text/plain": [
       ":Bars   [index]   (2016)"
      ]
     },
     "execution_count": 178,
     "metadata": {
      "application/vnd.holoviews_exec.v0+json": {
       "id": "27117"
      }
     },
     "output_type": "execute_result"
    }
   ],
   "source": [
    "create_bar_chart(to_data_mean_by_year.loc[2016], \"Dwelling Types in Toronto in 2016\", \"2016\", \"Dwelling Type Units\", \"magenta\")"
   ]
  },
  {
   "cell_type": "markdown",
   "metadata": {},
   "source": [
    "## Serve the Panel Dashboard"
   ]
  },
  {
   "cell_type": "code",
   "execution_count": 179,
   "metadata": {},
   "outputs": [
    {
     "data": {},
     "metadata": {},
     "output_type": "display_data"
    },
    {
     "data": {},
     "metadata": {},
     "output_type": "display_data"
    },
    {
     "data": {
      "application/vnd.holoviews_exec.v0+json": "",
      "text/html": [
       "<div id='27268'>\n",
       "\n",
       "\n",
       "\n",
       "\n",
       "\n",
       "  <div class=\"bk-root\" id=\"1347dee9-b654-48ba-8edd-a1fc26df7d9e\" data-root-id=\"27268\"></div>\n",
       "</div>\n",
       "<script type=\"application/javascript\">(function(root) {\n",
       "  function embed_document(root) {\n",
       "    var docs_json = {\"396c1ad4-8021-4956-bb69-2fd30e953e3e\":{\"defs\":[{\"extends\":null,\"module\":null,\"name\":\"ReactiveHTML1\",\"overrides\":[],\"properties\":[]},{\"extends\":null,\"module\":null,\"name\":\"FlexBox1\",\"overrides\":[],\"properties\":[{\"default\":\"flex-start\",\"kind\":null,\"name\":\"align_content\"},{\"default\":\"flex-start\",\"kind\":null,\"name\":\"align_items\"},{\"default\":\"row\",\"kind\":null,\"name\":\"flex_direction\"},{\"default\":\"wrap\",\"kind\":null,\"name\":\"flex_wrap\"},{\"default\":\"flex-start\",\"kind\":null,\"name\":\"justify_content\"}]},{\"extends\":null,\"module\":null,\"name\":\"TemplateActions1\",\"overrides\":[],\"properties\":[{\"default\":0,\"kind\":null,\"name\":\"open_modal\"},{\"default\":0,\"kind\":null,\"name\":\"close_modal\"}]},{\"extends\":null,\"module\":null,\"name\":\"MaterialTemplateActions1\",\"overrides\":[],\"properties\":[{\"default\":0,\"kind\":null,\"name\":\"open_modal\"},{\"default\":0,\"kind\":null,\"name\":\"close_modal\"}]}],\"roots\":{\"references\":[{\"attributes\":{\"axis\":{\"id\":\"27355\"},\"coordinates\":null,\"grid_line_color\":null,\"group\":null,\"ticker\":null},\"id\":\"27357\",\"type\":\"Grid\"},{\"attributes\":{\"fill_alpha\":{\"value\":0.1},\"fill_color\":{\"value\":\"magenta\"},\"hatch_alpha\":{\"value\":0.1},\"hatch_color\":{\"value\":\"magenta\"},\"line_alpha\":{\"value\":0.1},\"top\":{\"field\":\"A_2016\"},\"width\":{\"value\":0.8},\"x\":{\"field\":\"index\"}},\"id\":\"27513\",\"type\":\"VBar\"},{\"attributes\":{},\"id\":\"27295\",\"type\":\"SaveTool\"},{\"attributes\":{\"axis_label\":\"2006\",\"coordinates\":null,\"formatter\":{\"id\":\"27385\"},\"group\":null,\"major_label_orientation\":1.5707963267948966,\"major_label_policy\":{\"id\":\"27386\"},\"ticker\":{\"id\":\"27356\"}},\"id\":\"27355\",\"type\":\"CategoricalAxis\"},{\"attributes\":{},\"id\":\"27359\",\"type\":\"BasicTicker\"},{\"attributes\":{},\"id\":\"27356\",\"type\":\"CategoricalTicker\"},{\"attributes\":{\"axis_label\":\"Dwelling Type Units\",\"coordinates\":null,\"formatter\":{\"id\":\"27388\"},\"group\":null,\"major_label_policy\":{\"id\":\"27389\"},\"ticker\":{\"id\":\"27359\"}},\"id\":\"27358\",\"type\":\"LinearAxis\"},{\"attributes\":{},\"id\":\"27519\",\"type\":\"CategoricalTickFormatter\"},{\"attributes\":{},\"id\":\"27452\",\"type\":\"CategoricalTickFormatter\"},{\"attributes\":{\"axis\":{\"id\":\"27358\"},\"coordinates\":null,\"dimension\":1,\"grid_line_color\":null,\"group\":null,\"ticker\":null},\"id\":\"27361\",\"type\":\"Grid\"},{\"attributes\":{},\"id\":\"27309\",\"type\":\"Selection\"},{\"attributes\":{\"fill_color\":{\"value\":\"orange\"},\"hatch_color\":{\"value\":\"orange\"},\"top\":{\"field\":\"A_2011\"},\"width\":{\"value\":0.8},\"x\":{\"field\":\"index\"}},\"id\":\"27445\",\"type\":\"VBar\"},{\"attributes\":{\"css_classes\":[\"markdown\"],\"margin\":[5,5,5,5],\"name\":\"Markdown34833\",\"style\":{\"color\":\"white\",\"font-family\":\"serif\"},\"text\":\"&lt;h2&gt;Neighbourhood Costs in Toronto&lt;/h2&gt;\"},\"id\":\"27546\",\"type\":\"panel.models.markup.HTML\"},{\"attributes\":{\"coordinates\":null,\"data_source\":{\"id\":\"27375\"},\"glyph\":{\"id\":\"27378\"},\"group\":null,\"hover_glyph\":null,\"muted_glyph\":{\"id\":\"27380\"},\"nonselection_glyph\":{\"id\":\"27379\"},\"selection_glyph\":{\"id\":\"27383\"},\"view\":{\"id\":\"27382\"}},\"id\":\"27381\",\"type\":\"GlyphRenderer\"},{\"attributes\":{},\"id\":\"27296\",\"type\":\"PanTool\"},{\"attributes\":{},\"id\":\"27389\",\"type\":\"AllLabels\"},{\"attributes\":{\"bottom_units\":\"screen\",\"coordinates\":null,\"fill_alpha\":0.5,\"fill_color\":\"lightgrey\",\"group\":null,\"left_units\":\"screen\",\"level\":\"overlay\",\"line_alpha\":1.0,\"line_color\":\"black\",\"line_dash\":[4,4],\"line_width\":2,\"right_units\":\"screen\",\"syncable\":false,\"top_units\":\"screen\"},\"id\":\"27367\",\"type\":\"BoxAnnotation\"},{\"attributes\":{},\"id\":\"27362\",\"type\":\"SaveTool\"},{\"attributes\":{},\"id\":\"27363\",\"type\":\"PanTool\"},{\"attributes\":{},\"id\":\"27366\",\"type\":\"ResetTool\"},{\"attributes\":{\"axis\":{\"id\":\"27291\"},\"coordinates\":null,\"dimension\":1,\"grid_line_color\":null,\"group\":null,\"ticker\":null},\"id\":\"27294\",\"type\":\"Grid\"},{\"attributes\":{},\"id\":\"27364\",\"type\":\"WheelZoomTool\"},{\"attributes\":{\"overlay\":{\"id\":\"27367\"}},\"id\":\"27365\",\"type\":\"BoxZoomTool\"},{\"attributes\":{\"bottom\":{\"value\":0},\"fill_alpha\":{\"value\":1.0},\"fill_color\":{\"value\":\"blue\"},\"hatch_alpha\":{\"value\":1.0},\"hatch_color\":{\"value\":\"blue\"},\"hatch_scale\":{\"value\":12.0},\"hatch_weight\":{\"value\":1.0},\"line_alpha\":{\"value\":1.0},\"line_cap\":{\"value\":\"butt\"},\"line_color\":{\"value\":\"black\"},\"line_dash\":{\"value\":[]},\"line_dash_offset\":{\"value\":0},\"line_join\":{\"value\":\"bevel\"},\"line_width\":{\"value\":1},\"top\":{\"field\":\"A_2006\"},\"width\":{\"value\":0.8},\"x\":{\"field\":\"index\"}},\"id\":\"27383\",\"type\":\"VBar\"},{\"attributes\":{\"end\":730475.0935714286,\"reset_end\":730475.0935714286,\"reset_start\":0.0,\"tags\":[[[\"2016\",\"2016\",null]]]},\"id\":\"27478\",\"type\":\"Range1d\"},{\"attributes\":{\"args\":{\"model\":{\"id\":\"27272\"}},\"code\":\"try { model.visibility = (cb_obj.active == 0); } catch { }\",\"tags\":[\"plotly_tab_fix27272\"]},\"id\":\"27862\",\"type\":\"CustomJS\"},{\"attributes\":{\"fill_alpha\":{\"value\":0.2},\"fill_color\":{\"value\":\"magenta\"},\"hatch_alpha\":{\"value\":0.2},\"hatch_color\":{\"value\":\"magenta\"},\"line_alpha\":{\"value\":0.2},\"top\":{\"field\":\"A_2016\"},\"width\":{\"value\":0.8},\"x\":{\"field\":\"index\"}},\"id\":\"27514\",\"type\":\"VBar\"},{\"attributes\":{},\"id\":\"27520\",\"type\":\"AllLabels\"},{\"attributes\":{\"fill_alpha\":{\"value\":0.2},\"fill_color\":{\"value\":\"orange\"},\"hatch_alpha\":{\"value\":0.2},\"hatch_color\":{\"value\":\"orange\"},\"line_alpha\":{\"value\":0.2},\"top\":{\"field\":\"A_2011\"},\"width\":{\"value\":0.8},\"x\":{\"field\":\"index\"}},\"id\":\"27447\",\"type\":\"VBar\"},{\"attributes\":{\"tools\":[{\"id\":\"27345\"},{\"id\":\"27362\"},{\"id\":\"27363\"},{\"id\":\"27364\"},{\"id\":\"27365\"},{\"id\":\"27366\"}]},\"id\":\"27368\",\"type\":\"Toolbar\"},{\"attributes\":{},\"id\":\"27531\",\"type\":\"UnionRenderers\"},{\"attributes\":{\"children\":[{\"id\":\"27546\"},{\"id\":\"27547\"},{\"id\":\"27549\"}],\"margin\":[0,0,0,0],\"name\":\"Column34913\"},\"id\":\"27545\",\"type\":\"Column\"},{\"attributes\":{},\"id\":\"27510\",\"type\":\"Selection\"},{\"attributes\":{\"child\":{\"id\":\"27545\"},\"name\":\"Column34913\",\"title\":\"Housing Costs\"},\"id\":\"27550\",\"type\":\"Panel\"},{\"attributes\":{\"data\":{\"A_2016\":{\"__ndarray__\":\"kiRJkiQZnkDbtm3btoarQG7btm3btuU/kiRJkiTJf0AAAAAAAHx7QEmSJEmSsHVA27Zt27Z6kkAlSZIkSVI0QKiDOqgIRCRB1EEd1EGFm0AlSZIkSaGTQA==\",\"dtype\":\"float64\",\"order\":\"little\",\"shape\":[11]},\"index\":[\"single_detached_house\",\"apartment_five_storeys_plus\",\"movable_dwelling\",\"semi_detached_house\",\"row_house\",\"duplex\",\"apartment_five_storeys_less\",\"other_house\",\"average_house_value\",\"shelter_costs_owned\",\"shelter_costs_rented\"]},\"selected\":{\"id\":\"27510\"},\"selection_policy\":{\"id\":\"27531\"}},\"id\":\"27509\",\"type\":\"ColumnDataSource\"},{\"attributes\":{\"args\":{\"model\":{\"id\":\"27549\"}},\"code\":\"try { model.visibility = (cb_obj.active == 2); } catch { }\",\"tags\":[\"plotly_tab_fix27549\"]},\"id\":\"27815\",\"type\":\"CustomJS\"},{\"attributes\":{\"source\":{\"id\":\"27375\"}},\"id\":\"27382\",\"type\":\"CDSView\"},{\"attributes\":{\"children\":[{\"id\":\"27275\"},{\"id\":\"27279\"},{\"id\":\"27346\"},{\"id\":\"27413\"},{\"id\":\"27480\"}],\"margin\":[0,0,0,0],\"name\":\"Column34832\"},\"id\":\"27274\",\"type\":\"Column\"},{\"attributes\":{\"axis_label\":\"2016\",\"coordinates\":null,\"formatter\":{\"id\":\"27519\"},\"group\":null,\"major_label_orientation\":1.5707963267948966,\"major_label_policy\":{\"id\":\"27520\"},\"ticker\":{\"id\":\"27490\"}},\"id\":\"27489\",\"type\":\"CategoricalAxis\"},{\"attributes\":{},\"id\":\"27522\",\"type\":\"BasicTickFormatter\"},{\"attributes\":{},\"id\":\"27322\",\"type\":\"AllLabels\"},{\"attributes\":{\"below\":[{\"id\":\"27422\"}],\"center\":[{\"id\":\"27424\"},{\"id\":\"27428\"}],\"height\":300,\"left\":[{\"id\":\"27425\"}],\"margin\":[5,5,5,5],\"min_border_bottom\":10,\"min_border_left\":10,\"min_border_right\":10,\"min_border_top\":10,\"renderers\":[{\"id\":\"27448\"}],\"sizing_mode\":\"fixed\",\"title\":{\"id\":\"27414\"},\"toolbar\":{\"id\":\"27435\"},\"width\":700,\"x_range\":{\"id\":\"27276\"},\"x_scale\":{\"id\":\"27418\"},\"y_range\":{\"id\":\"27411\"},\"y_scale\":{\"id\":\"27420\"}},\"id\":\"27413\",\"subtype\":\"Figure\",\"type\":\"Plot\"},{\"attributes\":{\"data\":{\"customdata\":[{\"__ndarray__\":\"AAAAAAAojUAAAAAAAECcQAAAAAAAEJ9AAAAAAADkokAAAAAAAPyeQAAAAAAA9KBAAAAAAACmokAAAAAAAK6mQAAAAAAAZJNAAAAAAABsnEAAAAAAAESfQAAAAAAABKNAAAAAAABgjUAAAAAAAAybQAAAAAAAwJ1AAAAAAAAYokAAAAAAAEiPQAAAAAAA1JtAAAAAAACcnkAAAAAAAJ6iQAAAAAAASJVAAAAAAABkmUAAAAAAAOybQAAAAAAA+qBAAAAAAADoj0AAAAAAAOSeQAAAAAAA/KBAAAAAAACopEAAAAAAAAyTQAAAAAAAMJ1AAAAAAAAMoEAAAAAAAISjQAAAAAAAfJBAAAAAAABknUAAAAAAACqgQAAAAAAAqKNAAAAAAAAMkUAAAAAAAJiZQAAAAAAAKJxAAAAAAAAgoUB9Hj1KACOTQGKx3TI8AJ1A86L/AY7ln0Blpf42p2WjQA==\",\"dtype\":\"float64\",\"order\":\"little\",\"shape\":[44,1]}],\"ids\":[[\"2001/Bedford Park-Nortown\",\"2006/Bedford Park-Nortown\",\"2011/Bedford Park-Nortown\",\"2016/Bedford Park-Nortown\",\"2001/Bridle Path-Sunnybrook-York Mills\",\"2006/Bridle Path-Sunnybrook-York Mills\",\"2011/Bridle Path-Sunnybrook-York Mills\",\"2016/Bridle Path-Sunnybrook-York Mills\",\"2001/Casa Loma\",\"2006/Casa Loma\",\"2011/Casa Loma\",\"2016/Casa Loma\",\"2001/Forest Hill North\",\"2006/Forest Hill North\",\"2011/Forest Hill North\",\"2016/Forest Hill North\",\"2001/Forest Hill South\",\"2006/Forest Hill South\",\"2011/Forest Hill South\",\"2016/Forest Hill South\",\"2001/Kingsway South\",\"2006/Kingsway South\",\"2011/Kingsway South\",\"2016/Kingsway South\",\"2001/Lawrence Park South\",\"2006/Lawrence Park South\",\"2011/Lawrence Park South\",\"2016/Lawrence Park South\",\"2001/Rosedale-Moore Park\",\"2006/Rosedale-Moore Park\",\"2011/Rosedale-Moore Park\",\"2016/Rosedale-Moore Park\",\"2001/St.Andrew-Windfields\",\"2006/St.Andrew-Windfields\",\"2011/St.Andrew-Windfields\",\"2016/St.Andrew-Windfields\",\"2001/Yonge-St.Clair\",\"2006/Yonge-St.Clair\",\"2011/Yonge-St.Clair\",\"2016/Yonge-St.Clair\",\"2001\",\"2006\",\"2011\",\"2016\"]],\"labels\":[[\"Bedford Park-Nortown\",\"Bedford Park-Nortown\",\"Bedford Park-Nortown\",\"Bedford Park-Nortown\",\"Bridle Path-Sunnybrook-York Mills\",\"Bridle Path-Sunnybrook-York Mills\",\"Bridle Path-Sunnybrook-York Mills\",\"Bridle Path-Sunnybrook-York Mills\",\"Casa Loma\",\"Casa Loma\",\"Casa Loma\",\"Casa Loma\",\"Forest Hill North\",\"Forest Hill North\",\"Forest Hill North\",\"Forest Hill North\",\"Forest Hill South\",\"Forest Hill South\",\"Forest Hill South\",\"Forest Hill South\",\"Kingsway South\",\"Kingsway South\",\"Kingsway South\",\"Kingsway South\",\"Lawrence Park South\",\"Lawrence Park South\",\"Lawrence Park South\",\"Lawrence Park South\",\"Rosedale-Moore Park\",\"Rosedale-Moore Park\",\"Rosedale-Moore Park\",\"Rosedale-Moore Park\",\"St.Andrew-Windfields\",\"St.Andrew-Windfields\",\"St.Andrew-Windfields\",\"St.Andrew-Windfields\",\"Yonge-St.Clair\",\"Yonge-St.Clair\",\"Yonge-St.Clair\",\"Yonge-St.Clair\",\"2001\",\"2006\",\"2011\",\"2016\"]],\"marker.colors\":[{\"__ndarray__\":\"AAAAAAAojUAAAAAAAECcQAAAAAAAEJ9AAAAAAADkokAAAAAAAPyeQAAAAAAA9KBAAAAAAACmokAAAAAAAK6mQAAAAAAAZJNAAAAAAABsnEAAAAAAAESfQAAAAAAABKNAAAAAAABgjUAAAAAAAAybQAAAAAAAwJ1AAAAAAAAYokAAAAAAAEiPQAAAAAAA1JtAAAAAAACcnkAAAAAAAJ6iQAAAAAAASJVAAAAAAABkmUAAAAAAAOybQAAAAAAA+qBAAAAAAADoj0AAAAAAAOSeQAAAAAAA/KBAAAAAAACopEAAAAAAAAyTQAAAAAAAMJ1AAAAAAAAMoEAAAAAAAISjQAAAAAAAfJBAAAAAAABknUAAAAAAACqgQAAAAAAAqKNAAAAAAAAMkUAAAAAAAJiZQAAAAAAAKJxAAAAAAAAgoUB9Hj1KACOTQGKx3TI8AJ1A86L/AY7ln0Blpf42p2WjQA==\",\"dtype\":\"float64\",\"order\":\"little\",\"shape\":[44]}],\"parents\":[[\"2001\",\"2006\",\"2011\",\"2016\",\"2001\",\"2006\",\"2011\",\"2016\",\"2001\",\"2006\",\"2011\",\"2016\",\"2001\",\"2006\",\"2011\",\"2016\",\"2001\",\"2006\",\"2011\",\"2016\",\"2001\",\"2006\",\"2011\",\"2016\",\"2001\",\"2006\",\"2011\",\"2016\",\"2001\",\"2006\",\"2011\",\"2016\",\"2001\",\"2006\",\"2011\",\"2016\",\"2001\",\"2006\",\"2011\",\"2016\",\"\",\"\",\"\",\"\"]],\"values\":[{\"__ndarray__\":\"AAAAAHBAIUEAAAAApjwpQQAAAAAmkS9BAAAAAJ/CM0EAAAAA1E0sQQAAAADVszRBAAAAACvlOUEAAACAtjVAQQAAAADaMCJBAAAAAFqcKkEAAAAAiKQwQQAAAAD/1TRBAAAAAGiVH0EAAAAA7hknQQAAAABM5SxBAAAAAIsWMkEAAAAAEC0mQQAAAABjODBBAAAAAOpJNEEAAAAAjWY5QQAAAAA4RR9BAAAAAEjfJkEAAAAA8JssQQAAAACf6DFBAAAAABBJJEEAAAAAwKwtQQAAAAAbjzJBAAAAACw8N0EAAAAAOEckQQAAAAAOqi1BAAAAAGyNMkEAAAAAETo3QQAAAACAhiJBAAAAAKIZK0EAAAAA4/IwQQAAAAAYODVBAAAAAEgoHkEAAAAA3g4mQQAAAABAlytBAAAAAHBFMUEAAABAjfBXQQAAAECfgmFBAAAAAPvmZUEAAADgsGtrQQ==\",\"dtype\":\"float64\",\"order\":\"little\",\"shape\":[44]}]},\"selected\":{\"id\":\"27582\"},\"selection_policy\":{\"id\":\"27581\"}},\"id\":\"27548\",\"type\":\"ColumnDataSource\"},{\"attributes\":{\"axis\":{\"id\":\"27489\"},\"coordinates\":null,\"grid_line_color\":null,\"group\":null,\"ticker\":null},\"id\":\"27491\",\"type\":\"Grid\"},{\"attributes\":{\"child\":{\"id\":\"27269\"},\"name\":\"Column34521\",\"title\":\"Average House Values in Toronto\"},\"id\":\"27273\",\"type\":\"Panel\"},{\"attributes\":{},\"id\":\"27485\",\"type\":\"CategoricalScale\"},{\"attributes\":{\"coordinates\":null,\"group\":null,\"text\":\"Dwelling Types in Toronto in 2016\",\"text_color\":\"black\",\"text_font_size\":\"12pt\"},\"id\":\"27481\",\"type\":\"Title\"},{\"attributes\":{\"children\":[{\"id\":\"27270\"},{\"id\":\"27272\"}],\"margin\":[0,0,0,0],\"name\":\"Column34521\"},\"id\":\"27269\",\"type\":\"Column\"},{\"attributes\":{\"fill_color\":{\"value\":\"magenta\"},\"hatch_color\":{\"value\":\"magenta\"},\"top\":{\"field\":\"A_2016\"},\"width\":{\"value\":0.8},\"x\":{\"field\":\"index\"}},\"id\":\"27512\",\"type\":\"VBar\"},{\"attributes\":{\"client_comm_id\":\"93a26ac81dcb4f679a920dc914f61ba7\",\"comm_id\":\"c25cc57003674772a219de7ea4254fe4\",\"plot_id\":\"27268\"},\"id\":\"27951\",\"type\":\"panel.models.comm_manager.CommManager\"},{\"attributes\":{\"data\":[{\"branchvalues\":\"total\",\"domain\":{\"x\":[0.0,1.0],\"y\":[0.0,1.0]},\"hovertemplate\":\"labels=%{label}<br>average_house_value=%{value}<br>parent=%{parent}<br>id=%{id}<br>shelter_costs_owned=%{color}<extra></extra>\",\"marker\":{\"coloraxis\":\"coloraxis\"},\"name\":\"\",\"type\":\"sunburst\"}],\"data_sources\":[{\"id\":\"27548\"}],\"layout\":{\"coloraxis\":{\"colorbar\":{\"title\":{\"text\":\"shelter_costs_owned\"}},\"colorscale\":[[0.0,\"#0d0887\"],[0.1111111111111111,\"#46039f\"],[0.2222222222222222,\"#7201a8\"],[0.3333333333333333,\"#9c179e\"],[0.4444444444444444,\"#bd3786\"],[0.5555555555555556,\"#d8576b\"],[0.6666666666666666,\"#ed7953\"],[0.7777777777777778,\"#fb9f3a\"],[0.8888888888888888,\"#fdca26\"],[1.0,\"#f0f921\"]]},\"height\":750,\"legend\":{\"tracegroupgap\":0},\"template\":{\"data\":{\"bar\":[{\"error_x\":{\"color\":\"#2a3f5f\"},\"error_y\":{\"color\":\"#2a3f5f\"},\"marker\":{\"line\":{\"color\":\"#E5ECF6\",\"width\":0.5},\"pattern\":{\"fillmode\":\"overlay\",\"size\":10,\"solidity\":0.2}},\"type\":\"bar\"}],\"barpolar\":[{\"marker\":{\"line\":{\"color\":\"#E5ECF6\",\"width\":0.5},\"pattern\":{\"fillmode\":\"overlay\",\"size\":10,\"solidity\":0.2}},\"type\":\"barpolar\"}],\"carpet\":[{\"aaxis\":{\"endlinecolor\":\"#2a3f5f\",\"gridcolor\":\"white\",\"linecolor\":\"white\",\"minorgridcolor\":\"white\",\"startlinecolor\":\"#2a3f5f\"},\"baxis\":{\"endlinecolor\":\"#2a3f5f\",\"gridcolor\":\"white\",\"linecolor\":\"white\",\"minorgridcolor\":\"white\",\"startlinecolor\":\"#2a3f5f\"},\"type\":\"carpet\"}],\"choropleth\":[{\"colorbar\":{\"outlinewidth\":0,\"ticks\":\"\"},\"type\":\"choropleth\"}],\"contour\":[{\"colorbar\":{\"outlinewidth\":0,\"ticks\":\"\"},\"colorscale\":[[0.0,\"#0d0887\"],[0.1111111111111111,\"#46039f\"],[0.2222222222222222,\"#7201a8\"],[0.3333333333333333,\"#9c179e\"],[0.4444444444444444,\"#bd3786\"],[0.5555555555555556,\"#d8576b\"],[0.6666666666666666,\"#ed7953\"],[0.7777777777777778,\"#fb9f3a\"],[0.8888888888888888,\"#fdca26\"],[1.0,\"#f0f921\"]],\"type\":\"contour\"}],\"contourcarpet\":[{\"colorbar\":{\"outlinewidth\":0,\"ticks\":\"\"},\"type\":\"contourcarpet\"}],\"heatmap\":[{\"colorbar\":{\"outlinewidth\":0,\"ticks\":\"\"},\"colorscale\":[[0.0,\"#0d0887\"],[0.1111111111111111,\"#46039f\"],[0.2222222222222222,\"#7201a8\"],[0.3333333333333333,\"#9c179e\"],[0.4444444444444444,\"#bd3786\"],[0.5555555555555556,\"#d8576b\"],[0.6666666666666666,\"#ed7953\"],[0.7777777777777778,\"#fb9f3a\"],[0.8888888888888888,\"#fdca26\"],[1.0,\"#f0f921\"]],\"type\":\"heatmap\"}],\"heatmapgl\":[{\"colorbar\":{\"outlinewidth\":0,\"ticks\":\"\"},\"colorscale\":[[0.0,\"#0d0887\"],[0.1111111111111111,\"#46039f\"],[0.2222222222222222,\"#7201a8\"],[0.3333333333333333,\"#9c179e\"],[0.4444444444444444,\"#bd3786\"],[0.5555555555555556,\"#d8576b\"],[0.6666666666666666,\"#ed7953\"],[0.7777777777777778,\"#fb9f3a\"],[0.8888888888888888,\"#fdca26\"],[1.0,\"#f0f921\"]],\"type\":\"heatmapgl\"}],\"histogram\":[{\"marker\":{\"pattern\":{\"fillmode\":\"overlay\",\"size\":10,\"solidity\":0.2}},\"type\":\"histogram\"}],\"histogram2d\":[{\"colorbar\":{\"outlinewidth\":0,\"ticks\":\"\"},\"colorscale\":[[0.0,\"#0d0887\"],[0.1111111111111111,\"#46039f\"],[0.2222222222222222,\"#7201a8\"],[0.3333333333333333,\"#9c179e\"],[0.4444444444444444,\"#bd3786\"],[0.5555555555555556,\"#d8576b\"],[0.6666666666666666,\"#ed7953\"],[0.7777777777777778,\"#fb9f3a\"],[0.8888888888888888,\"#fdca26\"],[1.0,\"#f0f921\"]],\"type\":\"histogram2d\"}],\"histogram2dcontour\":[{\"colorbar\":{\"outlinewidth\":0,\"ticks\":\"\"},\"colorscale\":[[0.0,\"#0d0887\"],[0.1111111111111111,\"#46039f\"],[0.2222222222222222,\"#7201a8\"],[0.3333333333333333,\"#9c179e\"],[0.4444444444444444,\"#bd3786\"],[0.5555555555555556,\"#d8576b\"],[0.6666666666666666,\"#ed7953\"],[0.7777777777777778,\"#fb9f3a\"],[0.8888888888888888,\"#fdca26\"],[1.0,\"#f0f921\"]],\"type\":\"histogram2dcontour\"}],\"mesh3d\":[{\"colorbar\":{\"outlinewidth\":0,\"ticks\":\"\"},\"type\":\"mesh3d\"}],\"parcoords\":[{\"line\":{\"colorbar\":{\"outlinewidth\":0,\"ticks\":\"\"}},\"type\":\"parcoords\"}],\"pie\":[{\"automargin\":true,\"type\":\"pie\"}],\"scatter\":[{\"marker\":{\"colorbar\":{\"outlinewidth\":0,\"ticks\":\"\"}},\"type\":\"scatter\"}],\"scatter3d\":[{\"line\":{\"colorbar\":{\"outlinewidth\":0,\"ticks\":\"\"}},\"marker\":{\"colorbar\":{\"outlinewidth\":0,\"ticks\":\"\"}},\"type\":\"scatter3d\"}],\"scattercarpet\":[{\"marker\":{\"colorbar\":{\"outlinewidth\":0,\"ticks\":\"\"}},\"type\":\"scattercarpet\"}],\"scattergeo\":[{\"marker\":{\"colorbar\":{\"outlinewidth\":0,\"ticks\":\"\"}},\"type\":\"scattergeo\"}],\"scattergl\":[{\"marker\":{\"colorbar\":{\"outlinewidth\":0,\"ticks\":\"\"}},\"type\":\"scattergl\"}],\"scattermapbox\":[{\"marker\":{\"colorbar\":{\"outlinewidth\":0,\"ticks\":\"\"}},\"type\":\"scattermapbox\"}],\"scatterpolar\":[{\"marker\":{\"colorbar\":{\"outlinewidth\":0,\"ticks\":\"\"}},\"type\":\"scatterpolar\"}],\"scatterpolargl\":[{\"marker\":{\"colorbar\":{\"outlinewidth\":0,\"ticks\":\"\"}},\"type\":\"scatterpolargl\"}],\"scatterternary\":[{\"marker\":{\"colorbar\":{\"outlinewidth\":0,\"ticks\":\"\"}},\"type\":\"scatterternary\"}],\"surface\":[{\"colorbar\":{\"outlinewidth\":0,\"ticks\":\"\"},\"colorscale\":[[0.0,\"#0d0887\"],[0.1111111111111111,\"#46039f\"],[0.2222222222222222,\"#7201a8\"],[0.3333333333333333,\"#9c179e\"],[0.4444444444444444,\"#bd3786\"],[0.5555555555555556,\"#d8576b\"],[0.6666666666666666,\"#ed7953\"],[0.7777777777777778,\"#fb9f3a\"],[0.8888888888888888,\"#fdca26\"],[1.0,\"#f0f921\"]],\"type\":\"surface\"}],\"table\":[{\"cells\":{\"fill\":{\"color\":\"#EBF0F8\"},\"line\":{\"color\":\"white\"}},\"header\":{\"fill\":{\"color\":\"#C8D4E3\"},\"line\":{\"color\":\"white\"}},\"type\":\"table\"}]},\"layout\":{\"annotationdefaults\":{\"arrowcolor\":\"#2a3f5f\",\"arrowhead\":0,\"arrowwidth\":1},\"autotypenumbers\":\"strict\",\"coloraxis\":{\"colorbar\":{\"outlinewidth\":0,\"ticks\":\"\"}},\"colorscale\":{\"diverging\":[[0,\"#8e0152\"],[0.1,\"#c51b7d\"],[0.2,\"#de77ae\"],[0.3,\"#f1b6da\"],[0.4,\"#fde0ef\"],[0.5,\"#f7f7f7\"],[0.6,\"#e6f5d0\"],[0.7,\"#b8e186\"],[0.8,\"#7fbc41\"],[0.9,\"#4d9221\"],[1,\"#276419\"]],\"sequential\":[[0.0,\"#0d0887\"],[0.1111111111111111,\"#46039f\"],[0.2222222222222222,\"#7201a8\"],[0.3333333333333333,\"#9c179e\"],[0.4444444444444444,\"#bd3786\"],[0.5555555555555556,\"#d8576b\"],[0.6666666666666666,\"#ed7953\"],[0.7777777777777778,\"#fb9f3a\"],[0.8888888888888888,\"#fdca26\"],[1.0,\"#f0f921\"]],\"sequentialminus\":[[0.0,\"#0d0887\"],[0.1111111111111111,\"#46039f\"],[0.2222222222222222,\"#7201a8\"],[0.3333333333333333,\"#9c179e\"],[0.4444444444444444,\"#bd3786\"],[0.5555555555555556,\"#d8576b\"],[0.6666666666666666,\"#ed7953\"],[0.7777777777777778,\"#fb9f3a\"],[0.8888888888888888,\"#fdca26\"],[1.0,\"#f0f921\"]]},\"colorway\":[\"#636efa\",\"#EF553B\",\"#00cc96\",\"#ab63fa\",\"#FFA15A\",\"#19d3f3\",\"#FF6692\",\"#B6E880\",\"#FF97FF\",\"#FECB52\"],\"font\":{\"color\":\"#2a3f5f\"},\"geo\":{\"bgcolor\":\"white\",\"lakecolor\":\"white\",\"landcolor\":\"#E5ECF6\",\"showlakes\":true,\"showland\":true,\"subunitcolor\":\"white\"},\"hoverlabel\":{\"align\":\"left\"},\"hovermode\":\"closest\",\"mapbox\":{\"style\":\"light\"},\"paper_bgcolor\":\"white\",\"plot_bgcolor\":\"#E5ECF6\",\"polar\":{\"angularaxis\":{\"gridcolor\":\"white\",\"linecolor\":\"white\",\"ticks\":\"\"},\"bgcolor\":\"#E5ECF6\",\"radialaxis\":{\"gridcolor\":\"white\",\"linecolor\":\"white\",\"ticks\":\"\"}},\"scene\":{\"xaxis\":{\"backgroundcolor\":\"#E5ECF6\",\"gridcolor\":\"white\",\"gridwidth\":2,\"linecolor\":\"white\",\"showbackground\":true,\"ticks\":\"\",\"zerolinecolor\":\"white\"},\"yaxis\":{\"backgroundcolor\":\"#E5ECF6\",\"gridcolor\":\"white\",\"gridwidth\":2,\"linecolor\":\"white\",\"showbackground\":true,\"ticks\":\"\",\"zerolinecolor\":\"white\"},\"zaxis\":{\"backgroundcolor\":\"#E5ECF6\",\"gridcolor\":\"white\",\"gridwidth\":2,\"linecolor\":\"white\",\"showbackground\":true,\"ticks\":\"\",\"zerolinecolor\":\"white\"}},\"shapedefaults\":{\"line\":{\"color\":\"#2a3f5f\"}},\"ternary\":{\"aaxis\":{\"gridcolor\":\"white\",\"linecolor\":\"white\",\"ticks\":\"\"},\"baxis\":{\"gridcolor\":\"white\",\"linecolor\":\"white\",\"ticks\":\"\"},\"bgcolor\":\"#E5ECF6\",\"caxis\":{\"gridcolor\":\"white\",\"linecolor\":\"white\",\"ticks\":\"\"}},\"title\":{\"x\":0.05},\"xaxis\":{\"automargin\":true,\"gridcolor\":\"white\",\"linecolor\":\"white\",\"ticks\":\"\",\"title\":{\"standoff\":15},\"zerolinecolor\":\"white\",\"zerolinewidth\":2},\"yaxis\":{\"automargin\":true,\"gridcolor\":\"white\",\"linecolor\":\"white\",\"ticks\":\"\",\"title\":{\"standoff\":15},\"zerolinecolor\":\"white\",\"zerolinewidth\":2}}},\"title\":{\"text\":\"Cost Analysis of Most Expensive Neighbourhoods in Toronto per Year\"},\"width\":750},\"margin\":[5,5,5,5],\"name\":\"Plotly34911\",\"viewport_update_throttle\":200,\"visibility\":false},\"id\":\"27549\",\"type\":\"panel.models.plotly.PlotlyPlot\"},{\"attributes\":{},\"id\":\"27297\",\"type\":\"WheelZoomTool\"},{\"attributes\":{},\"id\":\"27487\",\"type\":\"LinearScale\"},{\"attributes\":{},\"id\":\"27555\",\"type\":\"UnionRenderers\"},{\"attributes\":{\"js_property_callbacks\":{\"change:active\":[{\"id\":\"27815\"},{\"id\":\"27862\"}]},\"margin\":[0,0,0,0],\"tabs\":[{\"id\":\"27273\"},{\"id\":\"27544\"},{\"id\":\"27550\"}]},\"id\":\"27268\",\"type\":\"Tabs\"},{\"attributes\":{},\"id\":\"27490\",\"type\":\"CategoricalTicker\"},{\"attributes\":{\"callback\":null,\"renderers\":[{\"id\":\"27515\"}],\"tags\":[\"hv_created\"],\"tooltips\":[[\"index\",\"@{index}\"],[\"2016\",\"@{A_2016}\"]]},\"id\":\"27479\",\"type\":\"HoverTool\"},{\"attributes\":{\"axis_label\":\"Dwelling Type Units\",\"coordinates\":null,\"formatter\":{\"id\":\"27522\"},\"group\":null,\"major_label_policy\":{\"id\":\"27523\"},\"ticker\":{\"id\":\"27493\"}},\"id\":\"27492\",\"type\":\"LinearAxis\"},{\"attributes\":{\"callback\":null,\"renderers\":[{\"id\":\"27448\"}],\"tags\":[\"hv_created\"],\"tooltips\":[[\"index\",\"@{index}\"],[\"2011\",\"@{A_2011}\"]]},\"id\":\"27412\",\"type\":\"HoverTool\"},{\"attributes\":{},\"id\":\"27426\",\"type\":\"BasicTicker\"},{\"attributes\":{},\"id\":\"27493\",\"type\":\"BasicTicker\"},{\"attributes\":{\"axis\":{\"id\":\"27425\"},\"coordinates\":null,\"dimension\":1,\"grid_line_color\":null,\"group\":null,\"ticker\":null},\"id\":\"27428\",\"type\":\"Grid\"},{\"attributes\":{\"axis\":{\"id\":\"27492\"},\"coordinates\":null,\"dimension\":1,\"grid_line_color\":null,\"group\":null,\"ticker\":null},\"id\":\"27495\",\"type\":\"Grid\"},{\"attributes\":{\"fill_alpha\":{\"value\":0.1},\"fill_color\":{\"value\":\"orange\"},\"hatch_alpha\":{\"value\":0.1},\"hatch_color\":{\"value\":\"orange\"},\"line_alpha\":{\"value\":0.1},\"top\":{\"field\":\"A_2011\"},\"width\":{\"value\":0.8},\"x\":{\"field\":\"index\"}},\"id\":\"27446\",\"type\":\"VBar\"},{\"attributes\":{},\"id\":\"27284\",\"type\":\"CategoricalScale\"},{\"attributes\":{\"coordinates\":null,\"data_source\":{\"id\":\"27509\"},\"glyph\":{\"id\":\"27512\"},\"group\":null,\"hover_glyph\":null,\"muted_glyph\":{\"id\":\"27514\"},\"nonselection_glyph\":{\"id\":\"27513\"},\"selection_glyph\":{\"id\":\"27517\"},\"view\":{\"id\":\"27516\"}},\"id\":\"27515\",\"type\":\"GlyphRenderer\"},{\"attributes\":{\"coordinates\":null,\"data_source\":{\"id\":\"27442\"},\"glyph\":{\"id\":\"27445\"},\"group\":null,\"hover_glyph\":null,\"muted_glyph\":{\"id\":\"27447\"},\"nonselection_glyph\":{\"id\":\"27446\"},\"selection_glyph\":{\"id\":\"27450\"},\"view\":{\"id\":\"27449\"}},\"id\":\"27448\",\"type\":\"GlyphRenderer\"},{\"attributes\":{\"css_classes\":[\"markdown\"],\"margin\":[5,5,5,5],\"name\":\"Markdown34522\",\"style\":{\"color\":\"white\",\"font-family\":\"serif\"},\"text\":\"&lt;h2&gt;Dwelling Types in Toronto&lt;/h2&gt;\"},\"id\":\"27275\",\"type\":\"panel.models.markup.HTML\"},{\"attributes\":{\"bottom\":{\"value\":0},\"fill_alpha\":{\"value\":1.0},\"fill_color\":{\"value\":\"magenta\"},\"hatch_alpha\":{\"value\":1.0},\"hatch_color\":{\"value\":\"magenta\"},\"hatch_scale\":{\"value\":12.0},\"hatch_weight\":{\"value\":1.0},\"line_alpha\":{\"value\":1.0},\"line_cap\":{\"value\":\"butt\"},\"line_color\":{\"value\":\"black\"},\"line_dash\":{\"value\":[]},\"line_dash_offset\":{\"value\":0},\"line_join\":{\"value\":\"bevel\"},\"line_width\":{\"value\":1},\"top\":{\"field\":\"A_2016\"},\"width\":{\"value\":0.8},\"x\":{\"field\":\"index\"}},\"id\":\"27517\",\"type\":\"VBar\"},{\"attributes\":{\"margin\":[5,5,5,5],\"name\":\"Str34909\",\"text\":\"&lt;pre&gt; &lt;/pre&gt;\"},\"id\":\"27547\",\"type\":\"panel.models.markup.HTML\"},{\"attributes\":{\"callback\":null,\"renderers\":[{\"id\":\"27381\"}],\"tags\":[\"hv_created\"],\"tooltips\":[[\"index\",\"@{index}\"],[\"2006\",\"@{A_2006}\"]]},\"id\":\"27345\",\"type\":\"HoverTool\"},{\"attributes\":{\"bottom\":{\"value\":0},\"fill_alpha\":{\"value\":1.0},\"fill_color\":{\"value\":\"orange\"},\"hatch_alpha\":{\"value\":1.0},\"hatch_color\":{\"value\":\"orange\"},\"hatch_scale\":{\"value\":12.0},\"hatch_weight\":{\"value\":1.0},\"line_alpha\":{\"value\":1.0},\"line_cap\":{\"value\":\"butt\"},\"line_color\":{\"value\":\"black\"},\"line_dash\":{\"value\":[]},\"line_dash_offset\":{\"value\":0},\"line_join\":{\"value\":\"bevel\"},\"line_width\":{\"value\":1},\"top\":{\"field\":\"A_2011\"},\"width\":{\"value\":0.8},\"x\":{\"field\":\"index\"}},\"id\":\"27450\",\"type\":\"VBar\"},{\"attributes\":{\"bottom_units\":\"screen\",\"coordinates\":null,\"fill_alpha\":0.5,\"fill_color\":\"lightgrey\",\"group\":null,\"left_units\":\"screen\",\"level\":\"overlay\",\"line_alpha\":1.0,\"line_color\":\"black\",\"line_dash\":[4,4],\"line_width\":2,\"right_units\":\"screen\",\"syncable\":false,\"top_units\":\"screen\"},\"id\":\"27501\",\"type\":\"BoxAnnotation\"},{\"attributes\":{},\"id\":\"27496\",\"type\":\"SaveTool\"},{\"attributes\":{\"bottom_units\":\"screen\",\"coordinates\":null,\"fill_alpha\":0.5,\"fill_color\":\"lightgrey\",\"group\":null,\"left_units\":\"screen\",\"level\":\"overlay\",\"line_alpha\":1.0,\"line_color\":\"black\",\"line_dash\":[4,4],\"line_width\":2,\"right_units\":\"screen\",\"syncable\":false,\"top_units\":\"screen\"},\"id\":\"27434\",\"type\":\"BoxAnnotation\"},{\"attributes\":{},\"id\":\"27388\",\"type\":\"BasicTickFormatter\"},{\"attributes\":{},\"id\":\"27429\",\"type\":\"SaveTool\"},{\"attributes\":{},\"id\":\"27497\",\"type\":\"PanTool\"},{\"attributes\":{},\"id\":\"27430\",\"type\":\"PanTool\"},{\"attributes\":{},\"id\":\"27500\",\"type\":\"ResetTool\"},{\"attributes\":{\"data\":[{\"hovertemplate\":\"<b>%{hovertext}</b><br><br>average_house_value=%{marker.color}<br>lat=%{lat}<br>lon=%{lon}<br>shelter_costs_owned=%{customdata[0]}<br>shelter_costs_rented=%{customdata[1]}<br>single_detached_house=%{customdata[2]}<br>apartment_five_storeys_plus=%{customdata[3]}<br>movable_dwelling=%{customdata[4]}<br>semi_detached_house=%{customdata[5]}<br>row_house=%{customdata[6]}<br>duplex=%{customdata[7]}<br>apartment_five_storeys_less=%{customdata[8]}<br>other_house=%{customdata[9]}<extra></extra>\",\"legendgroup\":\"\",\"marker\":{\"coloraxis\":\"coloraxis\",\"sizemode\":\"area\",\"sizeref\":3816.214375},\"mode\":\"markers\",\"name\":\"\",\"showlegend\":false,\"subplot\":\"mapbox\",\"type\":\"scattermapbox\"}],\"data_sources\":[{\"id\":\"27271\"}],\"layout\":{\"coloraxis\":{\"colorbar\":{\"title\":{\"text\":\"average_house_value\"}},\"colorscale\":[[0.0,\"#0d0887\"],[0.1111111111111111,\"#46039f\"],[0.2222222222222222,\"#7201a8\"],[0.3333333333333333,\"#9c179e\"],[0.4444444444444444,\"#bd3786\"],[0.5555555555555556,\"#d8576b\"],[0.6666666666666666,\"#ed7953\"],[0.7777777777777778,\"#fb9f3a\"],[0.8888888888888888,\"#fdca26\"],[1.0,\"#f0f921\"]]},\"legend\":{\"itemsizing\":\"constant\",\"tracegroupgap\":0},\"mapbox\":{\"accesstoken\":\"pk.eyJ1Ijoic2Ftcm9iZXJ0czk5NSIsImEiOiJjbDB1bzJwMnkweXk5M2Rxb3RiMGZ0djJxIn0.BjplCDDdWr5sWpA1ithN9Q\",\"center\":{\"lat\":43.708840577642846,\"lon\":-79.4001855035},\"domain\":{\"x\":[0.0,1.0],\"y\":[0.0,1.0]},\"zoom\":10},\"margin\":{\"t\":60},\"template\":{\"data\":{\"bar\":[{\"error_x\":{\"color\":\"#2a3f5f\"},\"error_y\":{\"color\":\"#2a3f5f\"},\"marker\":{\"line\":{\"color\":\"#E5ECF6\",\"width\":0.5},\"pattern\":{\"fillmode\":\"overlay\",\"size\":10,\"solidity\":0.2}},\"type\":\"bar\"}],\"barpolar\":[{\"marker\":{\"line\":{\"color\":\"#E5ECF6\",\"width\":0.5},\"pattern\":{\"fillmode\":\"overlay\",\"size\":10,\"solidity\":0.2}},\"type\":\"barpolar\"}],\"carpet\":[{\"aaxis\":{\"endlinecolor\":\"#2a3f5f\",\"gridcolor\":\"white\",\"linecolor\":\"white\",\"minorgridcolor\":\"white\",\"startlinecolor\":\"#2a3f5f\"},\"baxis\":{\"endlinecolor\":\"#2a3f5f\",\"gridcolor\":\"white\",\"linecolor\":\"white\",\"minorgridcolor\":\"white\",\"startlinecolor\":\"#2a3f5f\"},\"type\":\"carpet\"}],\"choropleth\":[{\"colorbar\":{\"outlinewidth\":0,\"ticks\":\"\"},\"type\":\"choropleth\"}],\"contour\":[{\"colorbar\":{\"outlinewidth\":0,\"ticks\":\"\"},\"colorscale\":[[0.0,\"#0d0887\"],[0.1111111111111111,\"#46039f\"],[0.2222222222222222,\"#7201a8\"],[0.3333333333333333,\"#9c179e\"],[0.4444444444444444,\"#bd3786\"],[0.5555555555555556,\"#d8576b\"],[0.6666666666666666,\"#ed7953\"],[0.7777777777777778,\"#fb9f3a\"],[0.8888888888888888,\"#fdca26\"],[1.0,\"#f0f921\"]],\"type\":\"contour\"}],\"contourcarpet\":[{\"colorbar\":{\"outlinewidth\":0,\"ticks\":\"\"},\"type\":\"contourcarpet\"}],\"heatmap\":[{\"colorbar\":{\"outlinewidth\":0,\"ticks\":\"\"},\"colorscale\":[[0.0,\"#0d0887\"],[0.1111111111111111,\"#46039f\"],[0.2222222222222222,\"#7201a8\"],[0.3333333333333333,\"#9c179e\"],[0.4444444444444444,\"#bd3786\"],[0.5555555555555556,\"#d8576b\"],[0.6666666666666666,\"#ed7953\"],[0.7777777777777778,\"#fb9f3a\"],[0.8888888888888888,\"#fdca26\"],[1.0,\"#f0f921\"]],\"type\":\"heatmap\"}],\"heatmapgl\":[{\"colorbar\":{\"outlinewidth\":0,\"ticks\":\"\"},\"colorscale\":[[0.0,\"#0d0887\"],[0.1111111111111111,\"#46039f\"],[0.2222222222222222,\"#7201a8\"],[0.3333333333333333,\"#9c179e\"],[0.4444444444444444,\"#bd3786\"],[0.5555555555555556,\"#d8576b\"],[0.6666666666666666,\"#ed7953\"],[0.7777777777777778,\"#fb9f3a\"],[0.8888888888888888,\"#fdca26\"],[1.0,\"#f0f921\"]],\"type\":\"heatmapgl\"}],\"histogram\":[{\"marker\":{\"pattern\":{\"fillmode\":\"overlay\",\"size\":10,\"solidity\":0.2}},\"type\":\"histogram\"}],\"histogram2d\":[{\"colorbar\":{\"outlinewidth\":0,\"ticks\":\"\"},\"colorscale\":[[0.0,\"#0d0887\"],[0.1111111111111111,\"#46039f\"],[0.2222222222222222,\"#7201a8\"],[0.3333333333333333,\"#9c179e\"],[0.4444444444444444,\"#bd3786\"],[0.5555555555555556,\"#d8576b\"],[0.6666666666666666,\"#ed7953\"],[0.7777777777777778,\"#fb9f3a\"],[0.8888888888888888,\"#fdca26\"],[1.0,\"#f0f921\"]],\"type\":\"histogram2d\"}],\"histogram2dcontour\":[{\"colorbar\":{\"outlinewidth\":0,\"ticks\":\"\"},\"colorscale\":[[0.0,\"#0d0887\"],[0.1111111111111111,\"#46039f\"],[0.2222222222222222,\"#7201a8\"],[0.3333333333333333,\"#9c179e\"],[0.4444444444444444,\"#bd3786\"],[0.5555555555555556,\"#d8576b\"],[0.6666666666666666,\"#ed7953\"],[0.7777777777777778,\"#fb9f3a\"],[0.8888888888888888,\"#fdca26\"],[1.0,\"#f0f921\"]],\"type\":\"histogram2dcontour\"}],\"mesh3d\":[{\"colorbar\":{\"outlinewidth\":0,\"ticks\":\"\"},\"type\":\"mesh3d\"}],\"parcoords\":[{\"line\":{\"colorbar\":{\"outlinewidth\":0,\"ticks\":\"\"}},\"type\":\"parcoords\"}],\"pie\":[{\"automargin\":true,\"type\":\"pie\"}],\"scatter\":[{\"marker\":{\"colorbar\":{\"outlinewidth\":0,\"ticks\":\"\"}},\"type\":\"scatter\"}],\"scatter3d\":[{\"line\":{\"colorbar\":{\"outlinewidth\":0,\"ticks\":\"\"}},\"marker\":{\"colorbar\":{\"outlinewidth\":0,\"ticks\":\"\"}},\"type\":\"scatter3d\"}],\"scattercarpet\":[{\"marker\":{\"colorbar\":{\"outlinewidth\":0,\"ticks\":\"\"}},\"type\":\"scattercarpet\"}],\"scattergeo\":[{\"marker\":{\"colorbar\":{\"outlinewidth\":0,\"ticks\":\"\"}},\"type\":\"scattergeo\"}],\"scattergl\":[{\"marker\":{\"colorbar\":{\"outlinewidth\":0,\"ticks\":\"\"}},\"type\":\"scattergl\"}],\"scattermapbox\":[{\"marker\":{\"colorbar\":{\"outlinewidth\":0,\"ticks\":\"\"}},\"type\":\"scattermapbox\"}],\"scatterpolar\":[{\"marker\":{\"colorbar\":{\"outlinewidth\":0,\"ticks\":\"\"}},\"type\":\"scatterpolar\"}],\"scatterpolargl\":[{\"marker\":{\"colorbar\":{\"outlinewidth\":0,\"ticks\":\"\"}},\"type\":\"scatterpolargl\"}],\"scatterternary\":[{\"marker\":{\"colorbar\":{\"outlinewidth\":0,\"ticks\":\"\"}},\"type\":\"scatterternary\"}],\"surface\":[{\"colorbar\":{\"outlinewidth\":0,\"ticks\":\"\"},\"colorscale\":[[0.0,\"#0d0887\"],[0.1111111111111111,\"#46039f\"],[0.2222222222222222,\"#7201a8\"],[0.3333333333333333,\"#9c179e\"],[0.4444444444444444,\"#bd3786\"],[0.5555555555555556,\"#d8576b\"],[0.6666666666666666,\"#ed7953\"],[0.7777777777777778,\"#fb9f3a\"],[0.8888888888888888,\"#fdca26\"],[1.0,\"#f0f921\"]],\"type\":\"surface\"}],\"table\":[{\"cells\":{\"fill\":{\"color\":\"#EBF0F8\"},\"line\":{\"color\":\"white\"}},\"header\":{\"fill\":{\"color\":\"#C8D4E3\"},\"line\":{\"color\":\"white\"}},\"type\":\"table\"}]},\"layout\":{\"annotationdefaults\":{\"arrowcolor\":\"#2a3f5f\",\"arrowhead\":0,\"arrowwidth\":1},\"autotypenumbers\":\"strict\",\"coloraxis\":{\"colorbar\":{\"outlinewidth\":0,\"ticks\":\"\"}},\"colorscale\":{\"diverging\":[[0,\"#8e0152\"],[0.1,\"#c51b7d\"],[0.2,\"#de77ae\"],[0.3,\"#f1b6da\"],[0.4,\"#fde0ef\"],[0.5,\"#f7f7f7\"],[0.6,\"#e6f5d0\"],[0.7,\"#b8e186\"],[0.8,\"#7fbc41\"],[0.9,\"#4d9221\"],[1,\"#276419\"]],\"sequential\":[[0.0,\"#0d0887\"],[0.1111111111111111,\"#46039f\"],[0.2222222222222222,\"#7201a8\"],[0.3333333333333333,\"#9c179e\"],[0.4444444444444444,\"#bd3786\"],[0.5555555555555556,\"#d8576b\"],[0.6666666666666666,\"#ed7953\"],[0.7777777777777778,\"#fb9f3a\"],[0.8888888888888888,\"#fdca26\"],[1.0,\"#f0f921\"]],\"sequentialminus\":[[0.0,\"#0d0887\"],[0.1111111111111111,\"#46039f\"],[0.2222222222222222,\"#7201a8\"],[0.3333333333333333,\"#9c179e\"],[0.4444444444444444,\"#bd3786\"],[0.5555555555555556,\"#d8576b\"],[0.6666666666666666,\"#ed7953\"],[0.7777777777777778,\"#fb9f3a\"],[0.8888888888888888,\"#fdca26\"],[1.0,\"#f0f921\"]]},\"colorway\":[\"#636efa\",\"#EF553B\",\"#00cc96\",\"#ab63fa\",\"#FFA15A\",\"#19d3f3\",\"#FF6692\",\"#B6E880\",\"#FF97FF\",\"#FECB52\"],\"font\":{\"color\":\"#2a3f5f\"},\"geo\":{\"bgcolor\":\"white\",\"lakecolor\":\"white\",\"landcolor\":\"#E5ECF6\",\"showlakes\":true,\"showland\":true,\"subunitcolor\":\"white\"},\"hoverlabel\":{\"align\":\"left\"},\"hovermode\":\"closest\",\"mapbox\":{\"style\":\"light\"},\"paper_bgcolor\":\"white\",\"plot_bgcolor\":\"#E5ECF6\",\"polar\":{\"angularaxis\":{\"gridcolor\":\"white\",\"linecolor\":\"white\",\"ticks\":\"\"},\"bgcolor\":\"#E5ECF6\",\"radialaxis\":{\"gridcolor\":\"white\",\"linecolor\":\"white\",\"ticks\":\"\"}},\"scene\":{\"xaxis\":{\"backgroundcolor\":\"#E5ECF6\",\"gridcolor\":\"white\",\"gridwidth\":2,\"linecolor\":\"white\",\"showbackground\":true,\"ticks\":\"\",\"zerolinecolor\":\"white\"},\"yaxis\":{\"backgroundcolor\":\"#E5ECF6\",\"gridcolor\":\"white\",\"gridwidth\":2,\"linecolor\":\"white\",\"showbackground\":true,\"ticks\":\"\",\"zerolinecolor\":\"white\"},\"zaxis\":{\"backgroundcolor\":\"#E5ECF6\",\"gridcolor\":\"white\",\"gridwidth\":2,\"linecolor\":\"white\",\"showbackground\":true,\"ticks\":\"\",\"zerolinecolor\":\"white\"}},\"shapedefaults\":{\"line\":{\"color\":\"#2a3f5f\"}},\"ternary\":{\"aaxis\":{\"gridcolor\":\"white\",\"linecolor\":\"white\",\"ticks\":\"\"},\"baxis\":{\"gridcolor\":\"white\",\"linecolor\":\"white\",\"ticks\":\"\"},\"bgcolor\":\"#E5ECF6\",\"caxis\":{\"gridcolor\":\"white\",\"linecolor\":\"white\",\"ticks\":\"\"}},\"title\":{\"x\":0.05},\"xaxis\":{\"automargin\":true,\"gridcolor\":\"white\",\"linecolor\":\"white\",\"ticks\":\"\",\"title\":{\"standoff\":15},\"zerolinecolor\":\"white\",\"zerolinewidth\":2},\"yaxis\":{\"automargin\":true,\"gridcolor\":\"white\",\"linecolor\":\"white\",\"ticks\":\"\",\"title\":{\"standoff\":15},\"zerolinecolor\":\"white\",\"zerolinewidth\":2}}}},\"margin\":[5,5,5,5],\"name\":\"Plotly34519\",\"viewport_update_throttle\":200},\"id\":\"27272\",\"type\":\"panel.models.plotly.PlotlyPlot\"},{\"attributes\":{},\"id\":\"27433\",\"type\":\"ResetTool\"},{\"attributes\":{},\"id\":\"27498\",\"type\":\"WheelZoomTool\"},{\"attributes\":{\"css_classes\":[\"markdown\"],\"margin\":[5,5,5,5],\"name\":\"Markdown34517\",\"style\":{\"color\":\"white\",\"font-family\":\"serif\"},\"text\":\"&lt;h2&gt;Average House Values in Toronto&lt;/h2&gt;\"},\"id\":\"27270\",\"type\":\"panel.models.markup.HTML\"},{\"attributes\":{},\"id\":\"27431\",\"type\":\"WheelZoomTool\"},{\"attributes\":{\"data\":{\"customdata\":[{\"__ndarray__\":\"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\",\"dtype\":\"float64\",\"order\":\"little\",\"shape\":[140,10]}],\"hovertext\":[[\"Agincourt North\",\"Agincourt South-Malvern West\",\"Alderwood\",\"Annex\",\"Banbury-Don Mills\",\"Bathurst Manor\",\"Bay Street Corridor\",\"Bayview Village\",\"Bayview Woods-Steeles\",\"Bedford Park-Nortown\",\"Beechborough-Greenbrook\",\"Bendale\",\"Birchcliffe-Cliffside\",\"Black Creek\",\"Blake-Jones\",\"Briar Hill-Belgravia\",\"Bridle Path-Sunnybrook-York Mills\",\"Broadview North\",\"Brookhaven-Amesbury\",\"Cabbagetown-South St.James Town\",\"Caledonia-Fairbank\",\"Casa Loma\",\"Centennial Scarborough\",\"Church-Yonge Corridor\",\"Clairlea-Birchmount\",\"Clanton Park\",\"Cliffcrest\",\"Corso Italia-Davenport\",\"Danforth\",\"Danforth-East York\",\"Don Valley Village\",\"Dorset Park\",\"Dovercourt-Wallace Emerson-Juncti\",\"Downsview-Roding-CFB\",\"Dufferin Grove\",\"East End-Danforth\",\"Edenbridge-Humber Valley\",\"Eglinton East\",\"Elms-Old Rexdale\",\"Englemount-Lawrence\",\"Eringate-Centennial-West Deane\",\"Etobicoke West Mall\",\"Flemingdon Park\",\"Forest Hill North\",\"Forest Hill South\",\"Glenfield-Jane Heights\",\"Greenwood-Coxwell\",\"Guildwood\",\"Henry Farm\",\"High Park North\",\"High Park-Swansea\",\"Highland Creek\",\"Hillcrest Village\",\"Humber Heights-Westmount\",\"Humber Summit\",\"Humbermede\",\"Humewood-Cedarvale\",\"Ionview\",\"Islington-City Centre West\",\"Junction Area\",\"Keelesdale-Eglinton West\",\"Kennedy Park\",\"Kensington-Chinatown\",\"Kingsview Village-The Westway\",\"Kingsway South\",\"L'Amoreaux\",\"Lambton Baby Point\",\"Lansing-Westgate\",\"Lawrence Park North\",\"Lawrence Park South\",\"Leaside-Bennington\",\"Little Portugal\",\"Long Branch\",\"Malvern\",\"Maple Leaf\",\"Markland Wood\",\"Milliken\",\"Mimico\",\"Morningside\",\"Moss Park\",\"Mount Dennis\",\"Mount Olive-Silverstone-Jamestown\",\"Mount Pleasant East\",\"Mount Pleasant West\",\"New Toronto\",\"Newtonbrook East\",\"Newtonbrook West\",\"Niagara\",\"North Riverdale\",\"North St.James Town\",\"O'Connor-Parkview\",\"Oakridge\",\"Oakwood Village\",\"Old East York\",\"Palmerston-Little Italy\",\"Parkwoods-Donalda\",\"Pelmo Park-Humberlea\",\"Playter Estates-Danforth\",\"Pleasant View\",\"Princess-Rosethorn\",\"Regent Park\",\"Rexdale-Kipling\",\"Rockcliffe-Smythe\",\"Roncesvalles\",\"Rosedale-Moore Park\",\"Rouge\",\"Runnymede-Bloor West Village\",\"Rustic\",\"Scarborough Village\",\"South Parkdale\",\"South Riverdale\",\"St.Andrew-Windfields\",\"Steeles\",\"Stonegate-Queensway\",\"Tam O'Shanter-Sullivan\",\"Taylor-Massey\",\"The Beaches\",\"Thistletown-Beaumond Heights\",\"Thorncliffe Park\",\"Trinity-Bellwoods\",\"University\",\"Victoria Village\",\"Waterfront Communities-The Island\",\"West Hill\",\"West Humber-Clairville\",\"Westminster-Branson\",\"Weston\",\"Weston-Pellam Park\",\"Wexford/Maryvale\",\"Willowdale East\",\"Willowdale West\",\"Willowridge-Martingrove-Richview\",\"Woburn\",\"Woodbine Corridor\",\"Woodbine-Lumsden\",\"Wychwood\",\"Yonge-Eglinton\",\"Yonge-St.Clair\",\"York University Heights\",\"Yorkdale-Glen Park\"]],\"lat\":[{\"__ndarray__\":\"U/xKrRjnRUArfwi78uRFQGLShJJuzUVAiKL+gvbVRUAuVWmLa95FQG3/DGfl4UVA2X/4VCnURUAcpxHIX+NFQFWFipr95UVAhKk9V6HdRUCIzGRRu9hFQBE36a5T4UVAOpzQVuvYRUC/Y3js5+FFQGUFO9WM1kVAdJqBoXnZRUCGn6zWkd1FQBmI6Wsr2EVAHqN+D8XZRUCgzBZ7ddVFQINmfAQj2EVAvhr77UbXRUBYVMTpJORFQJdFtF9v1EVALWO//lbbRUD+lzEm+d5FQDjN0LJN3EVAIh27l73WRUD5o4cljtdFQMEXiX1A2EVASdu290LkRUCm6w3nL+FFQJ0G0uY01UVAGNQShtzdRUBnHFUT5dNFQFCwewKT10VAC2bplt/VRUBFsLuK1t5FQGYM97pa3EVAvL8PQTTcRUC/NajkOdRFQNNidGmR0kVA4j0HlqPbRUAFvA7NI9pFQPu2WDjm2EVAPX0E/nDfRUAjKwEpGNZFQOrKyqPZ30VAqebm2bTiRUA9uUMWK9RFQDl05XmR0kVActOPGzjlRUDPdyJOyOZFQPibmhWb2EVA7URJSCThRUD3o9GyKN9FQCSyUc5+2EVA0svFayDeRUB4u7lTFdFFQNK9d2l91UVANs/w6sXXRUCyaYQC39xFQARCZ6mn00VABCaqlnjZRUAWD7WOptNFQGHg2gXa5UVAgQrDVybURUB9yAD1i+BFQJAhlZxy3UVAf+fNl83bRUBIcQoCFtpFQN8qFXXi0kVABfoCgtLLRUDEFJtF3uZFQL4VR+2X20VAR3Nk5RfRRUDWllNlDOlFQFfD0ZfWzkVAZDE9oyXkRUDqkvXECNRFQCu+BBsV2EVAvbczXZnfRUATVY2YONpFQK+mgO4q2kVA26xVFuDMRUDu1HULUeVFQEJCUhOW5EVAVMtSwn7RRUAKKeTvA9ZFQAJLSzi21UVAY6w+cHjaRUBCKGurRNlFQAytkOoi2EVAxI7vIDDZRUCOtoVCX9RFQIiEzu+k4EVAhrO2hNfbRUDo3MxsANdFQNDffNG75EVAlz1kJUHVRUBidVifetRFQOLwWQmj3EVAmjORiF/WRUAzn3sotNJFQAHy66hm10VAJ5F1Hx3pRUAVlrLrYtRFQLn39AEW20VAL+rmJIzeRUCz469ef9FFQFGgkQAc00VADsvRqczgRUAW7PEID+hFQLsueKhY0UVAEzGAS9vjRUAjamCz9dhFQPyDUPfk1UVAHZ9eY3beRUAkXK+Gl9pFQDCRHPo400VA2TLPAM3URUCSMtIgP91FQGvj2/0i0UVAalnvHj3iRUCiBKLMq9tFQNbLziaw40VA6Y96mfLZRUDRRVxjRNZFQJX/PTbR30VAO3ZIGKPiRUDqcHwGt+JFQDujlK2B10VA4alPiyTiRUD1G7t+oNZFQNkdWn3Y2EVAUldnSqXWRUCS/uJCM9pFQO50a8IL2EVAsfM+pwPiRUC7XVBbettFQA==\",\"dtype\":\"float64\",\"order\":\"little\",\"shape\":[140]}],\"lon\":[{\"__ndarray__\":\"GObrzxHRU8Chm6LI/9BTwGXg48Cp4lPArp1qJdvZU8AVu4XHYdZTwNBX+wEw3VPA04cuqK/YU8AYHsGuIthTwLud2J502FPAoEhBAeXaU8D8cXetr95TwDbIZj950FPAkB3pRvfQU8CnJfMbaOFTwLWAt92X1VPA39wEhPvcU8C8WlH3P9hTwFK8RqLC1lPASb/55BPfU8AP46BKbtdTwAYW2TEi3VPAPJPsxxzaU8Aw3odqp8lTwHBxO9FB2FPAlLK5KALSU8AbTrI4kNxTwAUZnuoSz1PACZRmVqPcU8BO4t7CG9VTwJG4hbY11VPAbzH9GqLWU8BDObCg2dFTwMIdAw0R3FPAlEH/TmTfU8Dq/0Vl/dtTwCRbRLEo01PAcy+s8m/hU8DAcNfgt89TwAYea4gi41PAaU9ugP7bU8DPusoDJuVTwOWkKH5p5FPA9ZJSEkrVU8AxjZGyZttTwFG2Di+E2lPA7kGlndzgU8DTWV6gwdRTwDtKb8l7zFPAxW0b49bVU8AMjQ7l191TwNjmUp7x3VPAyKV9tVvLU8BcH9YbtdZTwKN5W0Rv4VPAU8rvXZjjU8DYtJQktuJTwMxS/Clf21PANesQKHDRU8BCq7yyxeJTwI3rIRIs3lPAh2SOBizeU8BBGiUaqtBTwBZR0WBs2VPANshFMRDjU8AqhlBKreBTwEy/yPQZ1FPAS0KeNL/fU8DWnA8RL9tTwHgfDcja2VPAlLW4jPzZU8BLEa66bddTwEWLQ2iK21PAG070VCLiU8DabVm2Pc5TwCRMSb3E3lPAp28+GrPkU8CIYAO/mdFTwDQVHD0C4FPAZf6wKUDNU8Am8WbLgddTwLNDHdL/31PASP7cp5XlU8CeLBCYothTwG+0iM0s2VPAI3P6tKngU8Av/hHh+tlTwGwP92ic21PAAo2IGGXaU8AXVfEMe9ZTwEtCOwoE2FPAZUMvivvTU8D7Lc+95tFTwMN2/3El3FPA4JgrpHjVU8B/7Wg1x9pTwGANSKkh1VPAxgMlYM/hU8A6FC55ttZTwJQsistv1VPAHFI1D9riU8CsN4uTEtdTwAfBFRY95FPAUM6rlaTfU8D/RwH9WdxTwK8S4oBM2FPAueQTDe3LU8D7H8PXFd9TwEOEC7vg31PApRAKQuDNU8C472ocHtxTwJeQrE971VPAWGHIJELYU8CKzNinjtRTwGVDDnwS4FPA+jIoBWPTU8D8T0AL8NJTwLRV7qos01PAV5+jPBDkU8CBxachZtZTwGZ2SPeU2lPAUYTU7azZU8DXjZDkJtRTwD5bKBUk2FPAk7X6qE7LU8COYD60KuZTwLZ9l2v03FPA04MnmQHhU8CGaN+idN1TwIlij9wc01PAJfsQ6bHZU8CVCWQbXdtTwE4gkVt441PAyJ41JqHOU8AXgW+iL9RTwLVDcBrq01PAYY0OozvbU8DGSN1r1NlTwMxL9rZ22VPADfug20nfU8DQ2DRCQd1TwA==\",\"dtype\":\"float64\",\"order\":\"little\",\"shape\":[140]}],\"marker.color\":[{\"__ndarray__\":\"AAAAAE4hFEEAAAAAtGUUQQAAAABKHhpBAAAAAMLLJkEAAAAAjq0iQQAAAAAjnR5BAAAAAJbbGUEAAACA9XQgQQAAAABLQSFBAAAAgN5kLEEAAAAAv6MWQQAAAAANYRJBAAAAAAyxGkEAAAAATtcPQQAAAAA0Nx9BAAAAAFJPFkEAAADA1Uo3QQAAAAC1DxtBAAAAAHxrFUEAAAAAeigeQQAAAADJExZBAAAAgJDwLUEAAAAAGwQZQQAAAACWyRhBAAAAAO2jFUEAAACAEtUgQQAAAAA4ehlBAAAAAGqhGUEAAAAA/H8cQQAAAAC9vBlBAAAAAOlKGEEAAAAAgvsPQQAAAAAuiBpBAAAAAJ5HF0EAAAAA0+0bQQAAAACZLR1BAAAAAAVMKEEAAAAAmmoQQQAAAADVYBBBAAAAgNFcIUEAAAAAV0cYQQAAAACQ4hJBAAAAALhdCUEAAAAAwf0pQQAAAIDYPzJBAAAAALf+E0EAAAAAvp8XQQAAAAB2ixZBAAAAAJiUFkEAAAAAIkAgQQAAAICDyiFBAAAAAJosGkEAAAAAPBwYQQAAAAD6aRtBAAAAAEp9FUEAAAAAn4QTQQAAAAD7RSVBAAAAABePEUEAAAAAlZEbQQAAAADVcRpBAAAAAFuzE0EAAAAABogRQQAAAACX4hpBAAAAAKOmFEEAAACAxLspQQAAAICH2CNBAAAAAKeLFEEAAAAAwbYiQQAAAADBLCdBAAAAwIuxMEEAAACAj5woQQAAAABBfCBBAAAAAJmMF0EAAAAAglsPQQAAAAC0qRtBAAAAABsZG0EAAAAAcQ4VQQAAAABKBBhBAAAAAFZlEUEAAAAAwP0YQQAAAACTAhBBAAAAAPLnDkEAAACA9KskQQAAAABXkxxBAAAAABDkGEEAAACAqhMhQQAAAABiHBxBAAAAACSVFkEAAACArnQlQQAAAAD/HBlBAAAAAC81EkEAAAAAxsUZQQAAAADL7RpBAAAAAFYQG0EAAACA3/wiQQAAAADyvxtBAAAAAN2+GEEAAACANs0jQQAAAAD9yRZBAAAAAGVeJ0EAAAAACfYXQQAAAACdCBZBAAAAAPEYFUEAAAAAJRAfQQAAAAAIsDBBAAAAAHv3FkEAAAAAJNkgQQAAAADKTxpBAAAAAK8hFEEAAAAA2k8bQQAAAACyxRtBAAAAAIZ9LkEAAAAAOvMWQQAAAIBAzCBBAAAAABqaFUEAAAAAsDkNQQAAAACEVSRBAAAAAODwFkEAAAAABikPQQAAAICDTyBBAAAAgJneIkEAAAAAFH4VQQAAAAB8ABdBAAAAAJ5fEUEAAAAAWfMUQQAAAAAhUhVBAAAAAJ/MEkEAAAAA6HgVQQAAAAB9QhVBAAAAANagHEEAAAAAW3McQQAAAABYVhxBAAAAACc4EkEAAAAAGy8bQQAAAAD6kxZBAAAAALFFIUEAAACAI7YoQQAAAIBI0ShBAAAAAK6rEkEAAAAANUwaQQ==\",\"dtype\":\"float64\",\"order\":\"little\",\"shape\":[140]}],\"marker.size\":[{\"__ndarray__\":\"AAAAAE4hFEEAAAAAtGUUQQAAAABKHhpBAAAAAMLLJkEAAAAAjq0iQQAAAAAjnR5BAAAAAJbbGUEAAACA9XQgQQAAAABLQSFBAAAAgN5kLEEAAAAAv6MWQQAAAAANYRJBAAAAAAyxGkEAAAAATtcPQQAAAAA0Nx9BAAAAAFJPFkEAAADA1Uo3QQAAAAC1DxtBAAAAAHxrFUEAAAAAeigeQQAAAADJExZBAAAAgJDwLUEAAAAAGwQZQQAAAACWyRhBAAAAAO2jFUEAAACAEtUgQQAAAAA4ehlBAAAAAGqhGUEAAAAA/H8cQQAAAAC9vBlBAAAAAOlKGEEAAAAAgvsPQQAAAAAuiBpBAAAAAJ5HF0EAAAAA0+0bQQAAAACZLR1BAAAAAAVMKEEAAAAAmmoQQQAAAADVYBBBAAAAgNFcIUEAAAAAV0cYQQAAAACQ4hJBAAAAALhdCUEAAAAAwf0pQQAAAIDYPzJBAAAAALf+E0EAAAAAvp8XQQAAAAB2ixZBAAAAAJiUFkEAAAAAIkAgQQAAAICDyiFBAAAAAJosGkEAAAAAPBwYQQAAAAD6aRtBAAAAAEp9FUEAAAAAn4QTQQAAAAD7RSVBAAAAABePEUEAAAAAlZEbQQAAAADVcRpBAAAAAFuzE0EAAAAABogRQQAAAACX4hpBAAAAAKOmFEEAAACAxLspQQAAAICH2CNBAAAAAKeLFEEAAAAAwbYiQQAAAADBLCdBAAAAwIuxMEEAAACAj5woQQAAAABBfCBBAAAAAJmMF0EAAAAAglsPQQAAAAC0qRtBAAAAABsZG0EAAAAAcQ4VQQAAAABKBBhBAAAAAFZlEUEAAAAAwP0YQQAAAACTAhBBAAAAAPLnDkEAAACA9KskQQAAAABXkxxBAAAAABDkGEEAAACAqhMhQQAAAABiHBxBAAAAACSVFkEAAACArnQlQQAAAAD/HBlBAAAAAC81EkEAAAAAxsUZQQAAAADL7RpBAAAAAFYQG0EAAACA3/wiQQAAAADyvxtBAAAAAN2+GEEAAACANs0jQQAAAAD9yRZBAAAAAGVeJ0EAAAAACfYXQQAAAACdCBZBAAAAAPEYFUEAAAAAJRAfQQAAAAAIsDBBAAAAAHv3FkEAAAAAJNkgQQAAAADKTxpBAAAAAK8hFEEAAAAA2k8bQQAAAACyxRtBAAAAAIZ9LkEAAAAAOvMWQQAAAIBAzCBBAAAAABqaFUEAAAAAsDkNQQAAAACEVSRBAAAAAODwFkEAAAAABikPQQAAAICDTyBBAAAAgJneIkEAAAAAFH4VQQAAAAB8ABdBAAAAAJ5fEUEAAAAAWfMUQQAAAAAhUhVBAAAAAJ/MEkEAAAAA6HgVQQAAAAB9QhVBAAAAANagHEEAAAAAW3McQQAAAABYVhxBAAAAACc4EkEAAAAAGy8bQQAAAAD6kxZBAAAAALFFIUEAAACAI7YoQQAAAIBI0ShBAAAAAK6rEkEAAAAANUwaQQ==\",\"dtype\":\"float64\",\"order\":\"little\",\"shape\":[140]}]},\"selected\":{\"id\":\"27556\"},\"selection_policy\":{\"id\":\"27555\"}},\"id\":\"27271\",\"type\":\"ColumnDataSource\"},{\"attributes\":{\"overlay\":{\"id\":\"27501\"}},\"id\":\"27499\",\"type\":\"BoxZoomTool\"},{\"attributes\":{\"overlay\":{\"id\":\"27434\"}},\"id\":\"27432\",\"type\":\"BoxZoomTool\"},{\"attributes\":{\"fill_color\":{\"value\":\"blue\"},\"hatch_color\":{\"value\":\"blue\"},\"top\":{\"field\":\"A_2006\"},\"width\":{\"value\":0.8},\"x\":{\"field\":\"index\"}},\"id\":\"27378\",\"type\":\"VBar\"},{\"attributes\":{\"end\":466465.51285714284,\"reset_end\":466465.51285714284,\"reset_start\":0.0,\"tags\":[[[\"2006\",\"2006\",null]]]},\"id\":\"27344\",\"type\":\"Range1d\"},{\"attributes\":{\"fill_color\":{\"value\":\"red\"},\"hatch_color\":{\"value\":\"red\"},\"top\":{\"field\":\"A_2001\"},\"width\":{\"value\":0.8},\"x\":{\"field\":\"index\"}},\"id\":\"27311\",\"type\":\"VBar\"},{\"attributes\":{\"below\":[{\"id\":\"27355\"}],\"center\":[{\"id\":\"27357\"},{\"id\":\"27361\"}],\"height\":300,\"left\":[{\"id\":\"27358\"}],\"margin\":[5,5,5,5],\"min_border_bottom\":10,\"min_border_left\":10,\"min_border_right\":10,\"min_border_top\":10,\"renderers\":[{\"id\":\"27381\"}],\"sizing_mode\":\"fixed\",\"title\":{\"id\":\"27347\"},\"toolbar\":{\"id\":\"27368\"},\"width\":700,\"x_range\":{\"id\":\"27276\"},\"x_scale\":{\"id\":\"27351\"},\"y_range\":{\"id\":\"27344\"},\"y_scale\":{\"id\":\"27353\"}},\"id\":\"27346\",\"subtype\":\"Figure\",\"type\":\"Plot\"},{\"attributes\":{\"bottom_units\":\"screen\",\"coordinates\":null,\"fill_alpha\":0.5,\"fill_color\":\"lightgrey\",\"group\":null,\"left_units\":\"screen\",\"level\":\"overlay\",\"line_alpha\":1.0,\"line_color\":\"black\",\"line_dash\":[4,4],\"line_width\":2,\"right_units\":\"screen\",\"syncable\":false,\"top_units\":\"screen\"},\"id\":\"27300\",\"type\":\"BoxAnnotation\"},{\"attributes\":{\"child\":{\"id\":\"27274\"},\"name\":\"Column34832\",\"title\":\"Dwelling Types Per Year\"},\"id\":\"27544\",\"type\":\"Panel\"},{\"attributes\":{},\"id\":\"27386\",\"type\":\"AllLabels\"},{\"attributes\":{\"end\":318871.1207142857,\"reset_end\":318871.1207142857,\"reset_start\":0.0,\"tags\":[[[\"2001\",\"2001\",null]]]},\"id\":\"27277\",\"type\":\"Range1d\"},{\"attributes\":{\"tools\":[{\"id\":\"27479\"},{\"id\":\"27496\"},{\"id\":\"27497\"},{\"id\":\"27498\"},{\"id\":\"27499\"},{\"id\":\"27500\"}]},\"id\":\"27502\",\"type\":\"Toolbar\"},{\"attributes\":{\"data\":{\"A_2001\":{\"__ndarray__\":\"AAAAAADLoECSJEmSpM+jQEmSJEmSJOE/27Zt27ZPhEC3bdu2bV93QEmSJEmSPGVAAAAAAAAYikBu27Zt27Y1QIuv+IprsRFBUAd1UAd3ikAsvuIrvveQQA==\",\"dtype\":\"float64\",\"order\":\"little\",\"shape\":[11]},\"index\":[\"single_detached_house\",\"apartment_five_storeys_plus\",\"movable_dwelling\",\"semi_detached_house\",\"row_house\",\"duplex\",\"apartment_five_storeys_less\",\"other_house\",\"average_house_value\",\"shelter_costs_owned\",\"shelter_costs_rented\"]},\"selected\":{\"id\":\"27309\"},\"selection_policy\":{\"id\":\"27330\"}},\"id\":\"27308\",\"type\":\"ColumnDataSource\"},{\"attributes\":{},\"id\":\"27321\",\"type\":\"BasicTickFormatter\"},{\"attributes\":{\"factors\":[\"single_detached_house\",\"apartment_five_storeys_plus\",\"movable_dwelling\",\"semi_detached_house\",\"row_house\",\"duplex\",\"apartment_five_storeys_less\",\"other_house\",\"average_house_value\",\"shelter_costs_owned\",\"shelter_costs_rented\"],\"tags\":[[[\"index\",\"index\",null]]]},\"id\":\"27276\",\"type\":\"FactorRange\"},{\"attributes\":{\"tools\":[{\"id\":\"27412\"},{\"id\":\"27429\"},{\"id\":\"27430\"},{\"id\":\"27431\"},{\"id\":\"27432\"},{\"id\":\"27433\"}]},\"id\":\"27435\",\"type\":\"Toolbar\"},{\"attributes\":{},\"id\":\"27292\",\"type\":\"BasicTicker\"},{\"attributes\":{\"tools\":[{\"id\":\"27278\"},{\"id\":\"27295\"},{\"id\":\"27296\"},{\"id\":\"27297\"},{\"id\":\"27298\"},{\"id\":\"27299\"}]},\"id\":\"27301\",\"type\":\"Toolbar\"},{\"attributes\":{\"source\":{\"id\":\"27308\"}},\"id\":\"27315\",\"type\":\"CDSView\"},{\"attributes\":{\"source\":{\"id\":\"27509\"}},\"id\":\"27516\",\"type\":\"CDSView\"},{\"attributes\":{\"fill_alpha\":{\"value\":0.1},\"fill_color\":{\"value\":\"red\"},\"hatch_alpha\":{\"value\":0.1},\"hatch_color\":{\"value\":\"red\"},\"line_alpha\":{\"value\":0.1},\"top\":{\"field\":\"A_2001\"},\"width\":{\"value\":0.8},\"x\":{\"field\":\"index\"}},\"id\":\"27312\",\"type\":\"VBar\"},{\"attributes\":{\"source\":{\"id\":\"27442\"}},\"id\":\"27449\",\"type\":\"CDSView\"},{\"attributes\":{\"end\":583467.122142857,\"reset_end\":583467.122142857,\"reset_start\":0.0,\"tags\":[[[\"2011\",\"2011\",null]]]},\"id\":\"27411\",\"type\":\"Range1d\"},{\"attributes\":{\"fill_alpha\":{\"value\":0.2},\"fill_color\":{\"value\":\"red\"},\"hatch_alpha\":{\"value\":0.2},\"hatch_color\":{\"value\":\"red\"},\"line_alpha\":{\"value\":0.2},\"top\":{\"field\":\"A_2001\"},\"width\":{\"value\":0.8},\"x\":{\"field\":\"index\"}},\"id\":\"27313\",\"type\":\"VBar\"},{\"attributes\":{\"callback\":null,\"renderers\":[{\"id\":\"27314\"}],\"tags\":[\"hv_created\"],\"tooltips\":[[\"index\",\"@{index}\"],[\"2001\",\"@{A_2001}\"]]},\"id\":\"27278\",\"type\":\"HoverTool\"},{\"attributes\":{},\"id\":\"27453\",\"type\":\"AllLabels\"},{\"attributes\":{\"coordinates\":null,\"data_source\":{\"id\":\"27308\"},\"glyph\":{\"id\":\"27311\"},\"group\":null,\"hover_glyph\":null,\"muted_glyph\":{\"id\":\"27313\"},\"nonselection_glyph\":{\"id\":\"27312\"},\"selection_glyph\":{\"id\":\"27316\"},\"view\":{\"id\":\"27315\"}},\"id\":\"27314\",\"type\":\"GlyphRenderer\"},{\"attributes\":{},\"id\":\"27464\",\"type\":\"UnionRenderers\"},{\"attributes\":{\"below\":[{\"id\":\"27489\"}],\"center\":[{\"id\":\"27491\"},{\"id\":\"27495\"}],\"height\":300,\"left\":[{\"id\":\"27492\"}],\"margin\":[5,5,5,5],\"min_border_bottom\":10,\"min_border_left\":10,\"min_border_right\":10,\"min_border_top\":10,\"renderers\":[{\"id\":\"27515\"}],\"sizing_mode\":\"fixed\",\"title\":{\"id\":\"27481\"},\"toolbar\":{\"id\":\"27502\"},\"width\":700,\"x_range\":{\"id\":\"27276\"},\"x_scale\":{\"id\":\"27485\"},\"y_range\":{\"id\":\"27478\"},\"y_scale\":{\"id\":\"27487\"}},\"id\":\"27480\",\"subtype\":\"Figure\",\"type\":\"Plot\"},{\"attributes\":{},\"id\":\"27523\",\"type\":\"AllLabels\"},{\"attributes\":{},\"id\":\"27443\",\"type\":\"Selection\"},{\"attributes\":{\"data\":{\"A_2011\":{\"__ndarray__\":\"t23btm2vnkDbtm3btvOnQLdt27Zt2+Y/27Zt27YtgEDbtm3btvF6QCVJkiRJ+nNA27Zt27ZKkkDbtm3btu0uQPEVX3HxLyBBbtu2bduglkDFV3zFV96PQA==\",\"dtype\":\"float64\",\"order\":\"little\",\"shape\":[11]},\"index\":[\"single_detached_house\",\"apartment_five_storeys_plus\",\"movable_dwelling\",\"semi_detached_house\",\"row_house\",\"duplex\",\"apartment_five_storeys_less\",\"other_house\",\"average_house_value\",\"shelter_costs_owned\",\"shelter_costs_rented\"]},\"selected\":{\"id\":\"27443\"},\"selection_policy\":{\"id\":\"27464\"}},\"id\":\"27442\",\"type\":\"ColumnDataSource\"},{\"attributes\":{},\"id\":\"27456\",\"type\":\"AllLabels\"},{\"attributes\":{\"axis\":{\"id\":\"27288\"},\"coordinates\":null,\"grid_line_color\":null,\"group\":null,\"ticker\":null},\"id\":\"27290\",\"type\":\"Grid\"},{\"attributes\":{},\"id\":\"27455\",\"type\":\"BasicTickFormatter\"},{\"attributes\":{},\"id\":\"27376\",\"type\":\"Selection\"},{\"attributes\":{\"axis_label\":\"2011\",\"coordinates\":null,\"formatter\":{\"id\":\"27452\"},\"group\":null,\"major_label_orientation\":1.5707963267948966,\"major_label_policy\":{\"id\":\"27453\"},\"ticker\":{\"id\":\"27423\"}},\"id\":\"27422\",\"type\":\"CategoricalAxis\"},{\"attributes\":{\"bottom\":{\"value\":0},\"fill_alpha\":{\"value\":1.0},\"fill_color\":{\"value\":\"red\"},\"hatch_alpha\":{\"value\":1.0},\"hatch_color\":{\"value\":\"red\"},\"hatch_scale\":{\"value\":12.0},\"hatch_weight\":{\"value\":1.0},\"line_alpha\":{\"value\":1.0},\"line_cap\":{\"value\":\"butt\"},\"line_color\":{\"value\":\"black\"},\"line_dash\":{\"value\":[]},\"line_dash_offset\":{\"value\":0},\"line_join\":{\"value\":\"bevel\"},\"line_width\":{\"value\":1},\"top\":{\"field\":\"A_2001\"},\"width\":{\"value\":0.8},\"x\":{\"field\":\"index\"}},\"id\":\"27316\",\"type\":\"VBar\"},{\"attributes\":{\"below\":[{\"id\":\"27288\"}],\"center\":[{\"id\":\"27290\"},{\"id\":\"27294\"}],\"height\":300,\"left\":[{\"id\":\"27291\"}],\"margin\":[5,5,5,5],\"min_border_bottom\":10,\"min_border_left\":10,\"min_border_right\":10,\"min_border_top\":10,\"renderers\":[{\"id\":\"27314\"}],\"sizing_mode\":\"fixed\",\"title\":{\"id\":\"27280\"},\"toolbar\":{\"id\":\"27301\"},\"width\":700,\"x_range\":{\"id\":\"27276\"},\"x_scale\":{\"id\":\"27284\"},\"y_range\":{\"id\":\"27277\"},\"y_scale\":{\"id\":\"27286\"}},\"id\":\"27279\",\"subtype\":\"Figure\",\"type\":\"Plot\"},{\"attributes\":{},\"id\":\"27319\",\"type\":\"AllLabels\"},{\"attributes\":{},\"id\":\"27556\",\"type\":\"Selection\"},{\"attributes\":{},\"id\":\"27330\",\"type\":\"UnionRenderers\"},{\"attributes\":{},\"id\":\"27581\",\"type\":\"UnionRenderers\"},{\"attributes\":{},\"id\":\"27299\",\"type\":\"ResetTool\"},{\"attributes\":{\"axis\":{\"id\":\"27422\"},\"coordinates\":null,\"grid_line_color\":null,\"group\":null,\"ticker\":null},\"id\":\"27424\",\"type\":\"Grid\"},{\"attributes\":{\"axis_label\":\"2001\",\"coordinates\":null,\"formatter\":{\"id\":\"27318\"},\"group\":null,\"major_label_orientation\":1.5707963267948966,\"major_label_policy\":{\"id\":\"27319\"},\"ticker\":{\"id\":\"27289\"}},\"id\":\"27288\",\"type\":\"CategoricalAxis\"},{\"attributes\":{\"coordinates\":null,\"group\":null,\"text\":\"Dwelling Types in Toronto in 2001\",\"text_color\":\"black\",\"text_font_size\":\"12pt\"},\"id\":\"27280\",\"type\":\"Title\"},{\"attributes\":{},\"id\":\"27418\",\"type\":\"CategoricalScale\"},{\"attributes\":{\"coordinates\":null,\"group\":null,\"text\":\"Dwelling Types in Toronto in 2011\",\"text_color\":\"black\",\"text_font_size\":\"12pt\"},\"id\":\"27414\",\"type\":\"Title\"},{\"attributes\":{\"axis_label\":\"Dwelling Type Units\",\"coordinates\":null,\"formatter\":{\"id\":\"27455\"},\"group\":null,\"major_label_policy\":{\"id\":\"27456\"},\"ticker\":{\"id\":\"27426\"}},\"id\":\"27425\",\"type\":\"LinearAxis\"},{\"attributes\":{},\"id\":\"27582\",\"type\":\"Selection\"},{\"attributes\":{\"overlay\":{\"id\":\"27300\"}},\"id\":\"27298\",\"type\":\"BoxZoomTool\"},{\"attributes\":{},\"id\":\"27286\",\"type\":\"LinearScale\"},{\"attributes\":{\"fill_alpha\":{\"value\":0.1},\"fill_color\":{\"value\":\"blue\"},\"hatch_alpha\":{\"value\":0.1},\"hatch_color\":{\"value\":\"blue\"},\"line_alpha\":{\"value\":0.1},\"top\":{\"field\":\"A_2006\"},\"width\":{\"value\":0.8},\"x\":{\"field\":\"index\"}},\"id\":\"27379\",\"type\":\"VBar\"},{\"attributes\":{},\"id\":\"27397\",\"type\":\"UnionRenderers\"},{\"attributes\":{},\"id\":\"27420\",\"type\":\"LinearScale\"},{\"attributes\":{\"fill_alpha\":{\"value\":0.2},\"fill_color\":{\"value\":\"blue\"},\"hatch_alpha\":{\"value\":0.2},\"hatch_color\":{\"value\":\"blue\"},\"line_alpha\":{\"value\":0.2},\"top\":{\"field\":\"A_2006\"},\"width\":{\"value\":0.8},\"x\":{\"field\":\"index\"}},\"id\":\"27380\",\"type\":\"VBar\"},{\"attributes\":{},\"id\":\"27385\",\"type\":\"CategoricalTickFormatter\"},{\"attributes\":{},\"id\":\"27289\",\"type\":\"CategoricalTicker\"},{\"attributes\":{},\"id\":\"27318\",\"type\":\"CategoricalTickFormatter\"},{\"attributes\":{\"axis_label\":\"Dwelling Type Units\",\"coordinates\":null,\"formatter\":{\"id\":\"27321\"},\"group\":null,\"major_label_policy\":{\"id\":\"27322\"},\"ticker\":{\"id\":\"27292\"}},\"id\":\"27291\",\"type\":\"LinearAxis\"},{\"attributes\":{},\"id\":\"27353\",\"type\":\"LinearScale\"},{\"attributes\":{\"data\":{\"A_2006\":{\"__ndarray__\":\"SZIkSZLInUAAAAAAACylQLdt27Zt2/I/btu2bdv+fkAlSZIkSWp4QLdt27Ztr3NAbtu2bdsskkAlSZIkSRIjQKiDOqju4RlBMzMzMzOTlEB1UAd1UOuMQA==\",\"dtype\":\"float64\",\"order\":\"little\",\"shape\":[11]},\"index\":[\"single_detached_house\",\"apartment_five_storeys_plus\",\"movable_dwelling\",\"semi_detached_house\",\"row_house\",\"duplex\",\"apartment_five_storeys_less\",\"other_house\",\"average_house_value\",\"shelter_costs_owned\",\"shelter_costs_rented\"]},\"selected\":{\"id\":\"27376\"},\"selection_policy\":{\"id\":\"27397\"}},\"id\":\"27375\",\"type\":\"ColumnDataSource\"},{\"attributes\":{},\"id\":\"27423\",\"type\":\"CategoricalTicker\"},{\"attributes\":{\"coordinates\":null,\"group\":null,\"text\":\"Dwelling Types in Toronto in 2006\",\"text_color\":\"black\",\"text_font_size\":\"12pt\"},\"id\":\"27347\",\"type\":\"Title\"},{\"attributes\":{},\"id\":\"27351\",\"type\":\"CategoricalScale\"}],\"root_ids\":[\"27268\",\"27951\"]},\"title\":\"Bokeh Application\",\"version\":\"2.4.1\"}};\n",
       "    var render_items = [{\"docid\":\"396c1ad4-8021-4956-bb69-2fd30e953e3e\",\"root_ids\":[\"27268\"],\"roots\":{\"27268\":\"1347dee9-b654-48ba-8edd-a1fc26df7d9e\"}}];\n",
       "    root.Bokeh.embed.embed_items_notebook(docs_json, render_items);\n",
       "  }\n",
       "  if (root.Bokeh !== undefined && root.Bokeh.Panel !== undefined && ( root['Plotly'] !== undefined)) {\n",
       "    embed_document(root);\n",
       "  } else {\n",
       "    var attempts = 0;\n",
       "    var timer = setInterval(function(root) {\n",
       "      if (root.Bokeh !== undefined && root.Bokeh.Panel !== undefined && (root['Plotly'] !== undefined)) {\n",
       "        clearInterval(timer);\n",
       "        embed_document(root);\n",
       "      } else if (document.readyState == \"complete\") {\n",
       "        attempts++;\n",
       "        if (attempts > 200) {\n",
       "          clearInterval(timer);\n",
       "          console.log(\"Bokeh: ERROR: Unable to run BokehJS code because BokehJS library is missing\");\n",
       "        }\n",
       "      }\n",
       "    }, 25, root)\n",
       "  }\n",
       "})(window);</script>"
      ],
      "text/plain": [
       "Tabs\n",
       "    [0] Column\n",
       "        [0] Markdown(str, style={'color': 'white', ...})\n",
       "        [1] Plotly(Figure)\n",
       "    [1] Column\n",
       "        [0] Markdown(str, style={'color': 'white', ...})\n",
       "        [1] HoloViews(Bars)\n",
       "        [2] HoloViews(Bars)\n",
       "        [3] HoloViews(Bars)\n",
       "        [4] HoloViews(Bars)\n",
       "    [2] Column\n",
       "        [0] Markdown(str, style={'color': 'white', ...})\n",
       "        [1] Str(None)\n",
       "        [2] Plotly(Figure)"
      ]
     },
     "execution_count": 179,
     "metadata": {
      "application/vnd.holoviews_exec.v0+json": {
       "id": "27268"
      }
     },
     "output_type": "execute_result"
    }
   ],
   "source": [
    "dashboard.servable()"
   ]
  },
  {
   "cell_type": "markdown",
   "metadata": {},
   "source": [
    "# Debugging\n",
    "\n",
    "Note: Some of the Plotly express plots may not render in the notebook through the panel functions.\n",
    "\n",
    "However, you can test each plot by uncommenting the following code"
   ]
  },
  {
   "cell_type": "code",
   "execution_count": 83,
   "metadata": {},
   "outputs": [],
   "source": [
    "#neighbourhood_map().show()"
   ]
  },
  {
   "cell_type": "code",
   "execution_count": null,
   "metadata": {},
   "outputs": [],
   "source": [
    "# create_bar_chart(data, title, xlabel, ylabel, color)\n",
    "\n",
    "# # Bar chart for 2001\n",
    "# create_bar_chart(df_dwelling_units.loc[2001], \"Dwelling Types in Toronto in 2001\", \"2001\", \"Dwelling Type Units\", \"red\")\n",
    "\n",
    "# # Bar chart for 2006\n",
    "# create_bar_chart(df_dwelling_units.loc[2006], \"Dwelling Types in Toronto in 2006\", \"2006\", \"Dwelling Type Units\", \"blue\")\n",
    "\n",
    "# # Bar chart for 2011\n",
    "# create_bar_chart(df_dwelling_units.loc[2011], \"Dwelling Types in Toronto in 2011\", \"2011\", \"Dwelling Type Units\", \"orange\")\n",
    "\n",
    "# # Bar chart for 2016\n",
    "# create_bar_chart(df_dwelling_units.loc[2016], \"Dwelling Types in Toronto in 2016\", \"2016\", \"Dwelling Type Units\", \"magenta\")"
   ]
  },
  {
   "cell_type": "code",
   "execution_count": null,
   "metadata": {},
   "outputs": [],
   "source": [
    "# create_line_chart(data, title, xlabel, ylabel, color)\n",
    "\n",
    "# # Line chart for owned dwellings\n",
    "# create_line_chart(df_avg_costs[\"shelter_costs_owned\"], \"Average Monthly Shelter Cost for Owned Dwellings in Toronto\", \"Year\", \"Avg Monthly Shelter Costs\", \"blue\")\n",
    "\n",
    "# # Line chart for rented dwellings\n",
    "# create_line_chart(df_avg_costs[\"shelter_costs_rented\"], \"Average Monthly Shelter Cost for Rented Dwellings in Toronto\", \"Year\", \"Avg Monthly Shelter Costs\", \"orange\")"
   ]
  },
  {
   "cell_type": "code",
   "execution_count": null,
   "metadata": {},
   "outputs": [],
   "source": [
    "# average_house_value()"
   ]
  },
  {
   "cell_type": "code",
   "execution_count": 22,
   "metadata": {},
   "outputs": [],
   "source": [
    "#average_value_by_neighbourhood()"
   ]
  },
  {
   "cell_type": "code",
   "execution_count": 21,
   "metadata": {},
   "outputs": [],
   "source": [
    "#number_dwelling_types()"
   ]
  },
  {
   "cell_type": "code",
   "execution_count": 20,
   "metadata": {},
   "outputs": [],
   "source": [
    "#average_house_value_snapshot()"
   ]
  },
  {
   "cell_type": "code",
   "execution_count": 19,
   "metadata": {},
   "outputs": [],
   "source": [
    "#top_most_expensive_neighbourhoods()"
   ]
  },
  {
   "cell_type": "code",
   "execution_count": 16,
   "metadata": {},
   "outputs": [],
   "source": [
    "#sunburts_cost_analysis()"
   ]
  },
  {
   "cell_type": "code",
   "execution_count": null,
   "metadata": {},
   "outputs": [],
   "source": []
  }
 ],
 "metadata": {
  "file_extension": ".py",
  "kernelspec": {
   "display_name": "Python [conda env:pyvizenv] *",
   "language": "python",
   "name": "conda-env-pyvizenv-py"
  },
  "language_info": {
   "codemirror_mode": {
    "name": "ipython",
    "version": 3
   },
   "file_extension": ".py",
   "mimetype": "text/x-python",
   "name": "python",
   "nbconvert_exporter": "python",
   "pygments_lexer": "ipython3",
   "version": "3.7.11"
  },
  "mimetype": "text/x-python",
  "name": "python",
  "npconvert_exporter": "python",
  "pygments_lexer": "ipython3",
  "version": 3
 },
 "nbformat": 4,
 "nbformat_minor": 4
}
